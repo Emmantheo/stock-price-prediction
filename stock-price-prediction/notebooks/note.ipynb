{
 "cells": [
  {
   "cell_type": "markdown",
   "metadata": {},
   "source": [
    "### Overview: Uniqlo stock price prediction\n",
    "\n",
    "Stock price prediction plays a crucial role in financial analysis and decision-making. This project focuses specifically on predicting stock prices for Uniqluo in the Japanese market. By leveraging historical data and advanced machine learning techniques, I aim to develop accurate models that can forecast future stock prices."
   ]
  },
  {
   "cell_type": "markdown",
   "metadata": {},
   "source": [
    "<a id=\"cont\"></a>\n",
    "\n",
    "## Table of Contents\n",
    "\n",
    "<a href=#one>1. Importing Packages</a>\n",
    "\n",
    "<a href=#two>2. Loading Data</a>\n",
    "\n",
    "<a href=#four>3. Exploratory Data Analysis (EDA)</a>\n",
    "\n",
    "<a href=#five>4. Data Engineering</a>\n",
    "\n",
    "<a href=#six>5. Modeling</a>\n",
    "\n",
    "<a href=#seven>6. Model Evaluation</a>\n",
    "\n",
    "<a href=#seven>7. Model Explanations</a>\n",
    "\n",
    "<a href=#seven>8. Conclusion</a>\n",
    "\n",
    "<a href=#seven>9. References</a>"
   ]
  },
  {
   "cell_type": "markdown",
   "metadata": {},
   "source": [
    "<a id=\"one\"></a>\n",
    "# 1. Importing Packages\n",
    "<a href=#cont>Back to Table of Contents</a>\n",
    "\n",
    "---\n",
    "    \n",
    "| ⚡ Description: Importing Packages ⚡ |\n",
    "| :--------------------------- |\n",
    "| In this section we imported and briefly discussed the libraries that will be used throughout the analysis and modelling. |\n",
    "\n",
    "---"
   ]
  },
  {
   "cell_type": "markdown",
   "metadata": {},
   "source": [
    "### 1.1. Data analysis Packages\n",
    "To analyze the the data we will need the following packages\n",
    "<ul> \n",
    "    <li><b>Numpy</b></li>\n",
    "    Numpy is a packages used to perform a wide variety of mathematical operations on arrays. It adds powerful data structures to Python that guarantee efficient calculations with arrays and matrices and it supplies an enormous library of high-level mathematical functions that operate on these arrays and matrices.<br>\n",
    "    <li><b>Pandas</b></li>\n",
    "    Pandas is mainly used for data analysis and associated manipulation of tabular data in Dataframes. Pandas allows importing data from various file formats such as comma-separated values, JSON, Parquet, SQL database tables or queries, and Microsoft Excel.\n",
    "    <li><b>Matplotlib</b></li>\n",
    "    Matplotlib is a comprehensive library for creating static, animated, and interactive visualizations in Python. It is a cross-platform library for making 2D plots from data in arrays. It provides an object-oriented API that helps in embedding plots in applications using Python GUI toolkits such as PyQt, WxPythonotTkinter.\n",
    "    <li><b>Seaborn</b></li>\n",
    "    Seaborn is a library for making statistical graphics in Python. It builds on top of matplotlib and integrates closely with pandas data structures. Seaborn helps you explore and understand your data.\n",
    "</ul>"
   ]
  },
  {
   "cell_type": "code",
   "execution_count": 586,
   "metadata": {},
   "outputs": [],
   "source": [
    "# Libraries for data loading, data manipulation and data visualisation\n",
    "import pandas as pd      \n",
    "import numpy as np\n",
    "import seaborn as sns\n",
    "import matplotlib.pyplot as plt\n",
    "import matplotlib.dates as mdates\n",
    "import datetime as dt\n",
    "from sklearn.preprocessing import StandardScaler\n",
    "# set plot style\n",
    "sns.set()"
   ]
  },
  {
   "cell_type": "code",
   "execution_count": 111,
   "metadata": {},
   "outputs": [
    {
     "name": "stdout",
     "output_type": "stream",
     "text": [
      "Collecting xgboost\n",
      "  Downloading xgboost-1.7.6-py3-none-win_amd64.whl (70.9 MB)\n",
      "     ---------------------------------------- 70.9/70.9 MB 3.7 MB/s eta 0:00:00\n",
      "Requirement already satisfied: scipy in c:\\users\\emmau\\documentsc\\users\\emmau\\documents\\lib\\site-packages (from xgboost) (1.10.0)\n",
      "Requirement already satisfied: numpy in c:\\users\\emmau\\documentsc\\users\\emmau\\documents\\lib\\site-packages (from xgboost) (1.23.5)\n",
      "Installing collected packages: xgboost\n",
      "Successfully installed xgboost-1.7.6\n",
      "Note: you may need to restart the kernel to use updated packages.\n"
     ]
    }
   ],
   "source": [
    "pip install xgboost"
   ]
  },
  {
   "cell_type": "code",
   "execution_count": 587,
   "metadata": {},
   "outputs": [],
   "source": [
    "# Libraries for data preparation and model building\n",
    "from sklearn.model_selection import train_test_split, GridSearchCV\n",
    "from sklearn.linear_model import LinearRegression\n",
    "from sklearn.ensemble import RandomForestRegressor\n",
    "import lightgbm as lgbm\n",
    "import xgboost as xgb\n",
    "from lightgbm import LGBMRegressor\n",
    "from sklearn.ensemble import VotingRegressor\n",
    "from keras.models import Sequential\n",
    "from keras.layers import LSTM, Dense\n",
    "from sklearn.model_selection import GridSearchCV\n",
    "from sklearn.metrics import mean_squared_error\n",
    "from sklearn.metrics import r2_score\n",
    "from prophet import Prophet"
   ]
  },
  {
   "cell_type": "markdown",
   "metadata": {},
   "source": [
    "<a id=\"two\"></a>\n",
    "# 2. Loading the Data\n",
    "<a class=\"anchor\" id=\"1.1\"></a>\n",
    "<a href=#cont>Back to Table of Contents</a>\n",
    "\n",
    "---\n",
    "    \n",
    "| ⚡ Description: Loading the data ⚡ |\n",
    "| :--------------------------- |\n",
    "| In this section we are going to load both the `train` and `test` data into DataFrames. |\n",
    "\n",
    "---"
   ]
  },
  {
   "cell_type": "code",
   "execution_count": 605,
   "metadata": {},
   "outputs": [
    {
     "data": {
      "text/html": [
       "<div>\n",
       "<style scoped>\n",
       "    .dataframe tbody tr th:only-of-type {\n",
       "        vertical-align: middle;\n",
       "    }\n",
       "\n",
       "    .dataframe tbody tr th {\n",
       "        vertical-align: top;\n",
       "    }\n",
       "\n",
       "    .dataframe thead th {\n",
       "        text-align: right;\n",
       "    }\n",
       "</style>\n",
       "<table border=\"1\" class=\"dataframe\">\n",
       "  <thead>\n",
       "    <tr style=\"text-align: right;\">\n",
       "      <th></th>\n",
       "      <th>Date</th>\n",
       "      <th>Open</th>\n",
       "      <th>High</th>\n",
       "      <th>Low</th>\n",
       "      <th>Close</th>\n",
       "      <th>Volume</th>\n",
       "      <th>Stock Trading</th>\n",
       "    </tr>\n",
       "  </thead>\n",
       "  <tbody>\n",
       "    <tr>\n",
       "      <th>0</th>\n",
       "      <td>2016-12-30</td>\n",
       "      <td>42120</td>\n",
       "      <td>42330</td>\n",
       "      <td>41700</td>\n",
       "      <td>41830</td>\n",
       "      <td>610000</td>\n",
       "      <td>25628028000</td>\n",
       "    </tr>\n",
       "    <tr>\n",
       "      <th>1</th>\n",
       "      <td>2016-12-29</td>\n",
       "      <td>43000</td>\n",
       "      <td>43220</td>\n",
       "      <td>42540</td>\n",
       "      <td>42660</td>\n",
       "      <td>448400</td>\n",
       "      <td>19188227000</td>\n",
       "    </tr>\n",
       "    <tr>\n",
       "      <th>2</th>\n",
       "      <td>2016-12-28</td>\n",
       "      <td>43940</td>\n",
       "      <td>43970</td>\n",
       "      <td>43270</td>\n",
       "      <td>43270</td>\n",
       "      <td>339900</td>\n",
       "      <td>14780670000</td>\n",
       "    </tr>\n",
       "    <tr>\n",
       "      <th>3</th>\n",
       "      <td>2016-12-27</td>\n",
       "      <td>43140</td>\n",
       "      <td>43700</td>\n",
       "      <td>43140</td>\n",
       "      <td>43620</td>\n",
       "      <td>400100</td>\n",
       "      <td>17427993000</td>\n",
       "    </tr>\n",
       "    <tr>\n",
       "      <th>4</th>\n",
       "      <td>2016-12-26</td>\n",
       "      <td>43310</td>\n",
       "      <td>43660</td>\n",
       "      <td>43090</td>\n",
       "      <td>43340</td>\n",
       "      <td>358200</td>\n",
       "      <td>15547803000</td>\n",
       "    </tr>\n",
       "    <tr>\n",
       "      <th>...</th>\n",
       "      <td>...</td>\n",
       "      <td>...</td>\n",
       "      <td>...</td>\n",
       "      <td>...</td>\n",
       "      <td>...</td>\n",
       "      <td>...</td>\n",
       "      <td>...</td>\n",
       "    </tr>\n",
       "    <tr>\n",
       "      <th>1221</th>\n",
       "      <td>2012-01-11</td>\n",
       "      <td>14360</td>\n",
       "      <td>14750</td>\n",
       "      <td>14280</td>\n",
       "      <td>14590</td>\n",
       "      <td>1043400</td>\n",
       "      <td>15191988000</td>\n",
       "    </tr>\n",
       "    <tr>\n",
       "      <th>1222</th>\n",
       "      <td>2012-01-10</td>\n",
       "      <td>13890</td>\n",
       "      <td>14390</td>\n",
       "      <td>13860</td>\n",
       "      <td>14390</td>\n",
       "      <td>952300</td>\n",
       "      <td>13533413000</td>\n",
       "    </tr>\n",
       "    <tr>\n",
       "      <th>1223</th>\n",
       "      <td>2012-01-06</td>\n",
       "      <td>13990</td>\n",
       "      <td>14030</td>\n",
       "      <td>13790</td>\n",
       "      <td>13850</td>\n",
       "      <td>765500</td>\n",
       "      <td>10635609000</td>\n",
       "    </tr>\n",
       "    <tr>\n",
       "      <th>1224</th>\n",
       "      <td>2012-01-05</td>\n",
       "      <td>13720</td>\n",
       "      <td>13840</td>\n",
       "      <td>13600</td>\n",
       "      <td>13800</td>\n",
       "      <td>511500</td>\n",
       "      <td>7030811000</td>\n",
       "    </tr>\n",
       "    <tr>\n",
       "      <th>1225</th>\n",
       "      <td>2012-01-04</td>\n",
       "      <td>14050</td>\n",
       "      <td>14050</td>\n",
       "      <td>13700</td>\n",
       "      <td>13720</td>\n",
       "      <td>559100</td>\n",
       "      <td>7719804000</td>\n",
       "    </tr>\n",
       "  </tbody>\n",
       "</table>\n",
       "<p>1226 rows × 7 columns</p>\n",
       "</div>"
      ],
      "text/plain": [
       "            Date   Open   High    Low  Close   Volume  Stock Trading\n",
       "0     2016-12-30  42120  42330  41700  41830   610000    25628028000\n",
       "1     2016-12-29  43000  43220  42540  42660   448400    19188227000\n",
       "2     2016-12-28  43940  43970  43270  43270   339900    14780670000\n",
       "3     2016-12-27  43140  43700  43140  43620   400100    17427993000\n",
       "4     2016-12-26  43310  43660  43090  43340   358200    15547803000\n",
       "...          ...    ...    ...    ...    ...      ...            ...\n",
       "1221  2012-01-11  14360  14750  14280  14590  1043400    15191988000\n",
       "1222  2012-01-10  13890  14390  13860  14390   952300    13533413000\n",
       "1223  2012-01-06  13990  14030  13790  13850   765500    10635609000\n",
       "1224  2012-01-05  13720  13840  13600  13800   511500     7030811000\n",
       "1225  2012-01-04  14050  14050  13700  13720   559100     7719804000\n",
       "\n",
       "[1226 rows x 7 columns]"
      ]
     },
     "execution_count": 605,
     "metadata": {},
     "output_type": "execute_result"
    }
   ],
   "source": [
    "#loading train data\n",
    "train = pd.read_csv(\"C:/Users/emmau/Downloads/stock-price-prediction/stock-price-prediction/data/01_raw/train.csv\")\n",
    "train"
   ]
  },
  {
   "cell_type": "code",
   "execution_count": 606,
   "metadata": {},
   "outputs": [
    {
     "data": {
      "text/html": [
       "<div>\n",
       "<style scoped>\n",
       "    .dataframe tbody tr th:only-of-type {\n",
       "        vertical-align: middle;\n",
       "    }\n",
       "\n",
       "    .dataframe tbody tr th {\n",
       "        vertical-align: top;\n",
       "    }\n",
       "\n",
       "    .dataframe thead th {\n",
       "        text-align: right;\n",
       "    }\n",
       "</style>\n",
       "<table border=\"1\" class=\"dataframe\">\n",
       "  <thead>\n",
       "    <tr style=\"text-align: right;\">\n",
       "      <th></th>\n",
       "      <th>Date</th>\n",
       "      <th>Open</th>\n",
       "      <th>High</th>\n",
       "      <th>Low</th>\n",
       "      <th>Close</th>\n",
       "      <th>Volume</th>\n",
       "      <th>Stock Trading</th>\n",
       "    </tr>\n",
       "  </thead>\n",
       "  <tbody>\n",
       "    <tr>\n",
       "      <th>0</th>\n",
       "      <td>2017-01-13</td>\n",
       "      <td>38900</td>\n",
       "      <td>39380</td>\n",
       "      <td>38240</td>\n",
       "      <td>38430</td>\n",
       "      <td>1321200</td>\n",
       "      <td>51197289000</td>\n",
       "    </tr>\n",
       "    <tr>\n",
       "      <th>1</th>\n",
       "      <td>2017-01-12</td>\n",
       "      <td>38300</td>\n",
       "      <td>38450</td>\n",
       "      <td>37930</td>\n",
       "      <td>38010</td>\n",
       "      <td>800900</td>\n",
       "      <td>30540359000</td>\n",
       "    </tr>\n",
       "    <tr>\n",
       "      <th>2</th>\n",
       "      <td>2017-01-11</td>\n",
       "      <td>38710</td>\n",
       "      <td>38880</td>\n",
       "      <td>38480</td>\n",
       "      <td>38560</td>\n",
       "      <td>545900</td>\n",
       "      <td>21089798000</td>\n",
       "    </tr>\n",
       "    <tr>\n",
       "      <th>3</th>\n",
       "      <td>2017-01-10</td>\n",
       "      <td>38620</td>\n",
       "      <td>38850</td>\n",
       "      <td>38150</td>\n",
       "      <td>38690</td>\n",
       "      <td>1196900</td>\n",
       "      <td>46107703000</td>\n",
       "    </tr>\n",
       "    <tr>\n",
       "      <th>4</th>\n",
       "      <td>2017-01-06</td>\n",
       "      <td>40500</td>\n",
       "      <td>41030</td>\n",
       "      <td>39720</td>\n",
       "      <td>39720</td>\n",
       "      <td>1435500</td>\n",
       "      <td>57708934000</td>\n",
       "    </tr>\n",
       "    <tr>\n",
       "      <th>5</th>\n",
       "      <td>2017-01-05</td>\n",
       "      <td>43250</td>\n",
       "      <td>43330</td>\n",
       "      <td>42470</td>\n",
       "      <td>42590</td>\n",
       "      <td>516800</td>\n",
       "      <td>22124250000</td>\n",
       "    </tr>\n",
       "    <tr>\n",
       "      <th>6</th>\n",
       "      <td>2017-01-04</td>\n",
       "      <td>42480</td>\n",
       "      <td>43330</td>\n",
       "      <td>42450</td>\n",
       "      <td>43290</td>\n",
       "      <td>648100</td>\n",
       "      <td>27916728000</td>\n",
       "    </tr>\n",
       "  </tbody>\n",
       "</table>\n",
       "</div>"
      ],
      "text/plain": [
       "         Date   Open   High    Low  Close   Volume  Stock Trading\n",
       "0  2017-01-13  38900  39380  38240  38430  1321200    51197289000\n",
       "1  2017-01-12  38300  38450  37930  38010   800900    30540359000\n",
       "2  2017-01-11  38710  38880  38480  38560   545900    21089798000\n",
       "3  2017-01-10  38620  38850  38150  38690  1196900    46107703000\n",
       "4  2017-01-06  40500  41030  39720  39720  1435500    57708934000\n",
       "5  2017-01-05  43250  43330  42470  42590   516800    22124250000\n",
       "6  2017-01-04  42480  43330  42450  43290   648100    27916728000"
      ]
     },
     "execution_count": 606,
     "metadata": {},
     "output_type": "execute_result"
    }
   ],
   "source": [
    "#loading train data\n",
    "test = pd.read_csv(\"C:/Users/emmau/Downloads/stock-price-prediction/stock-price-prediction/data/01_raw/test.csv\")\n",
    "test"
   ]
  },
  {
   "cell_type": "code",
   "execution_count": 607,
   "metadata": {},
   "outputs": [
    {
     "data": {
      "text/html": [
       "<div>\n",
       "<style scoped>\n",
       "    .dataframe tbody tr th:only-of-type {\n",
       "        vertical-align: middle;\n",
       "    }\n",
       "\n",
       "    .dataframe tbody tr th {\n",
       "        vertical-align: top;\n",
       "    }\n",
       "\n",
       "    .dataframe thead th {\n",
       "        text-align: right;\n",
       "    }\n",
       "</style>\n",
       "<table border=\"1\" class=\"dataframe\">\n",
       "  <thead>\n",
       "    <tr style=\"text-align: right;\">\n",
       "      <th></th>\n",
       "      <th>Date</th>\n",
       "      <th>Open</th>\n",
       "      <th>High</th>\n",
       "      <th>Low</th>\n",
       "      <th>Volume</th>\n",
       "      <th>Stock Trading</th>\n",
       "    </tr>\n",
       "  </thead>\n",
       "  <tbody>\n",
       "    <tr>\n",
       "      <th>0</th>\n",
       "      <td>2017-01-13</td>\n",
       "      <td>38900</td>\n",
       "      <td>39380</td>\n",
       "      <td>38240</td>\n",
       "      <td>1321200</td>\n",
       "      <td>51197289000</td>\n",
       "    </tr>\n",
       "    <tr>\n",
       "      <th>1</th>\n",
       "      <td>2017-01-12</td>\n",
       "      <td>38300</td>\n",
       "      <td>38450</td>\n",
       "      <td>37930</td>\n",
       "      <td>800900</td>\n",
       "      <td>30540359000</td>\n",
       "    </tr>\n",
       "    <tr>\n",
       "      <th>2</th>\n",
       "      <td>2017-01-11</td>\n",
       "      <td>38710</td>\n",
       "      <td>38880</td>\n",
       "      <td>38480</td>\n",
       "      <td>545900</td>\n",
       "      <td>21089798000</td>\n",
       "    </tr>\n",
       "    <tr>\n",
       "      <th>3</th>\n",
       "      <td>2017-01-10</td>\n",
       "      <td>38620</td>\n",
       "      <td>38850</td>\n",
       "      <td>38150</td>\n",
       "      <td>1196900</td>\n",
       "      <td>46107703000</td>\n",
       "    </tr>\n",
       "    <tr>\n",
       "      <th>4</th>\n",
       "      <td>2017-01-06</td>\n",
       "      <td>40500</td>\n",
       "      <td>41030</td>\n",
       "      <td>39720</td>\n",
       "      <td>1435500</td>\n",
       "      <td>57708934000</td>\n",
       "    </tr>\n",
       "    <tr>\n",
       "      <th>5</th>\n",
       "      <td>2017-01-05</td>\n",
       "      <td>43250</td>\n",
       "      <td>43330</td>\n",
       "      <td>42470</td>\n",
       "      <td>516800</td>\n",
       "      <td>22124250000</td>\n",
       "    </tr>\n",
       "    <tr>\n",
       "      <th>6</th>\n",
       "      <td>2017-01-04</td>\n",
       "      <td>42480</td>\n",
       "      <td>43330</td>\n",
       "      <td>42450</td>\n",
       "      <td>648100</td>\n",
       "      <td>27916728000</td>\n",
       "    </tr>\n",
       "  </tbody>\n",
       "</table>\n",
       "</div>"
      ],
      "text/plain": [
       "         Date   Open   High    Low   Volume  Stock Trading\n",
       "0  2017-01-13  38900  39380  38240  1321200    51197289000\n",
       "1  2017-01-12  38300  38450  37930   800900    30540359000\n",
       "2  2017-01-11  38710  38880  38480   545900    21089798000\n",
       "3  2017-01-10  38620  38850  38150  1196900    46107703000\n",
       "4  2017-01-06  40500  41030  39720  1435500    57708934000\n",
       "5  2017-01-05  43250  43330  42470   516800    22124250000\n",
       "6  2017-01-04  42480  43330  42450   648100    27916728000"
      ]
     },
     "execution_count": 607,
     "metadata": {},
     "output_type": "execute_result"
    }
   ],
   "source": [
    "test_df = test.drop('Close', axis=1)\n",
    "test_df"
   ]
  },
  {
   "cell_type": "markdown",
   "metadata": {},
   "source": [
    "<a id=\"three\"></a>\n",
    "# 3. Exploratory Data Analysis (EDA)\n",
    "<a class=\"anchor\" id=\"1.1\"></a>\n",
    "<a href=#cont>Back to Table of Contents</a>\n",
    "\n",
    "---\n",
    "    \n",
    "| ⚡ Description: Exploratory data analysis ⚡ |\n",
    "| :--------------------------- |\n",
    "| In this section we are going to perform an in-depth analysis of all the variables in the DataFrame. This would give us proper knowledge of our feature and label to know how useful they are to this project.\n",
    "\n",
    "---"
   ]
  },
  {
   "cell_type": "code",
   "execution_count": 498,
   "metadata": {},
   "outputs": [
    {
     "ename": "TypeError",
     "evalue": "'locator' must be an instance of matplotlib.ticker.Locator, not a type",
     "output_type": "error",
     "traceback": [
      "\u001b[1;31m---------------------------------------------------------------------------\u001b[0m",
      "\u001b[1;31mTypeError\u001b[0m                                 Traceback (most recent call last)",
      "Cell \u001b[1;32mIn[498], line 3\u001b[0m\n\u001b[0;32m      1\u001b[0m plt\u001b[39m.\u001b[39mfigure(figsize\u001b[39m=\u001b[39m(\u001b[39m15\u001b[39m,\u001b[39m10\u001b[39m))\n\u001b[0;32m      2\u001b[0m plt\u001b[39m.\u001b[39mgca()\u001b[39m.\u001b[39mxaxis\u001b[39m.\u001b[39mset_major_formatter(mdates\u001b[39m.\u001b[39mDateFormatter(\u001b[39m'\u001b[39m\u001b[39m%\u001b[39m\u001b[39mY-\u001b[39m\u001b[39m%\u001b[39m\u001b[39mm-\u001b[39m\u001b[39m%\u001b[39m\u001b[39mD\u001b[39m\u001b[39m'\u001b[39m))\n\u001b[1;32m----> 3\u001b[0m plt\u001b[39m.\u001b[39;49mgca()\u001b[39m.\u001b[39;49mxaxis\u001b[39m.\u001b[39;49mset_major_locator(mdates\u001b[39m.\u001b[39;49mDateLocator)\n\u001b[0;32m      4\u001b[0m x_dates \u001b[39m=\u001b[39m [dt\u001b[39m.\u001b[39mdatetime\u001b[39m.\u001b[39mstrptime(d, \u001b[39m'\u001b[39m\u001b[39m%\u001b[39m\u001b[39mY-\u001b[39m\u001b[39m%\u001b[39m\u001b[39mm-\u001b[39m\u001b[39m%\u001b[39m\u001b[39mD\u001b[39m\u001b[39m'\u001b[39m)\u001b[39m.\u001b[39mdate() \u001b[39mfor\u001b[39;00m d \u001b[39min\u001b[39;00m stock_data\u001b[39m.\u001b[39mindex\u001b[39m.\u001b[39mvalues]\n\u001b[0;32m      6\u001b[0m plt\u001b[39m.\u001b[39mplot(x_dates, train[\u001b[39m'\u001b[39m\u001b[39mHigh\u001b[39m\u001b[39m'\u001b[39m], label \u001b[39m=\u001b[39m \u001b[39m'\u001b[39m\u001b[39mHigh\u001b[39m\u001b[39m'\u001b[39m)\n",
      "File \u001b[1;32mc:\\Users\\emmau\\DocumentsC\\Users\\emmau\\Documents\\lib\\site-packages\\matplotlib\\axis.py:1870\u001b[0m, in \u001b[0;36mAxis.set_major_locator\u001b[1;34m(self, locator)\u001b[0m\n\u001b[0;32m   1862\u001b[0m \u001b[39mdef\u001b[39;00m \u001b[39mset_major_locator\u001b[39m(\u001b[39mself\u001b[39m, locator):\n\u001b[0;32m   1863\u001b[0m     \u001b[39m\"\"\"\u001b[39;00m\n\u001b[0;32m   1864\u001b[0m \u001b[39m    Set the locator of the major ticker.\u001b[39;00m\n\u001b[0;32m   1865\u001b[0m \n\u001b[1;32m   (...)\u001b[0m\n\u001b[0;32m   1868\u001b[0m \u001b[39m    locator : `~matplotlib.ticker.Locator`\u001b[39;00m\n\u001b[0;32m   1869\u001b[0m \u001b[39m    \"\"\"\u001b[39;00m\n\u001b[1;32m-> 1870\u001b[0m     _api\u001b[39m.\u001b[39;49mcheck_isinstance(mticker\u001b[39m.\u001b[39;49mLocator, locator\u001b[39m=\u001b[39;49mlocator)\n\u001b[0;32m   1871\u001b[0m     \u001b[39mself\u001b[39m\u001b[39m.\u001b[39misDefault_majloc \u001b[39m=\u001b[39m \u001b[39mFalse\u001b[39;00m\n\u001b[0;32m   1872\u001b[0m     \u001b[39mself\u001b[39m\u001b[39m.\u001b[39mmajor\u001b[39m.\u001b[39mlocator \u001b[39m=\u001b[39m locator\n",
      "File \u001b[1;32mc:\\Users\\emmau\\DocumentsC\\Users\\emmau\\Documents\\lib\\site-packages\\matplotlib\\_api\\__init__.py:93\u001b[0m, in \u001b[0;36mcheck_isinstance\u001b[1;34m(_types, **kwargs)\u001b[0m\n\u001b[0;32m     91\u001b[0m     names\u001b[39m.\u001b[39mremove(\u001b[39m\"\u001b[39m\u001b[39mNone\u001b[39m\u001b[39m\"\u001b[39m)\n\u001b[0;32m     92\u001b[0m     names\u001b[39m.\u001b[39mappend(\u001b[39m\"\u001b[39m\u001b[39mNone\u001b[39m\u001b[39m\"\u001b[39m)\n\u001b[1;32m---> 93\u001b[0m \u001b[39mraise\u001b[39;00m \u001b[39mTypeError\u001b[39;00m(\n\u001b[0;32m     94\u001b[0m     \u001b[39m\"\u001b[39m\u001b[39m{!r}\u001b[39;00m\u001b[39m must be an instance of \u001b[39m\u001b[39m{}\u001b[39;00m\u001b[39m, not a \u001b[39m\u001b[39m{}\u001b[39;00m\u001b[39m\"\u001b[39m\u001b[39m.\u001b[39mformat(\n\u001b[0;32m     95\u001b[0m         k,\n\u001b[0;32m     96\u001b[0m         \u001b[39m\"\u001b[39m\u001b[39m, \u001b[39m\u001b[39m\"\u001b[39m\u001b[39m.\u001b[39mjoin(names[:\u001b[39m-\u001b[39m\u001b[39m1\u001b[39m]) \u001b[39m+\u001b[39m \u001b[39m\"\u001b[39m\u001b[39m or \u001b[39m\u001b[39m\"\u001b[39m \u001b[39m+\u001b[39m names[\u001b[39m-\u001b[39m\u001b[39m1\u001b[39m]\n\u001b[0;32m     97\u001b[0m         \u001b[39mif\u001b[39;00m \u001b[39mlen\u001b[39m(names) \u001b[39m>\u001b[39m \u001b[39m1\u001b[39m \u001b[39melse\u001b[39;00m names[\u001b[39m0\u001b[39m],\n\u001b[0;32m     98\u001b[0m         type_name(\u001b[39mtype\u001b[39m(v))))\n",
      "\u001b[1;31mTypeError\u001b[0m: 'locator' must be an instance of matplotlib.ticker.Locator, not a type"
     ]
    },
    {
     "data": {
      "image/png": "[encoded data removed]",
      "text/plain": [
       "<Figure size 1500x1000 with 1 Axes>"
      ]
     },
     "metadata": {},
     "output_type": "display_data"
    }
   ],
   "source": [
    "plt.figure(figsize=(15,10))\n",
    "plt.gca().xaxis.set_major_formatter(mdates.DateFormatter('%Y-%m-%D'))\n",
    "plt.gca().xaxis.set_major_locator(mdates.DateLocator)\n",
    "x_dates = [dt.datetime.strptime(d, '%Y-%m-%D').date() for d in stock_data.index.values]\n",
    "\n",
    "plt.plot(x_dates, train['High'], label = 'High')\n",
    "plt.plot(x_dates, train['Low'], label = 'Low')\n",
    "plt.xlabel('Time Scale')\n",
    "plt.ylabel('Scaled Yuan')\n",
    "plt.legend()\n",
    "plt.gcf().autofmt_xdate()\n",
    "plt.show()"
   ]
  },
  {
   "cell_type": "code",
   "execution_count": 294,
   "metadata": {},
   "outputs": [
    {
     "data": {
      "text/html": [
       "<div>\n",
       "<style scoped>\n",
       "    .dataframe tbody tr th:only-of-type {\n",
       "        vertical-align: middle;\n",
       "    }\n",
       "\n",
       "    .dataframe tbody tr th {\n",
       "        vertical-align: top;\n",
       "    }\n",
       "\n",
       "    .dataframe thead th {\n",
       "        text-align: right;\n",
       "    }\n",
       "</style>\n",
       "<table border=\"1\" class=\"dataframe\">\n",
       "  <thead>\n",
       "    <tr style=\"text-align: right;\">\n",
       "      <th></th>\n",
       "      <th>Open</th>\n",
       "      <th>High</th>\n",
       "      <th>Low</th>\n",
       "      <th>Close</th>\n",
       "      <th>Volume</th>\n",
       "      <th>Stock Trading</th>\n",
       "    </tr>\n",
       "  </thead>\n",
       "  <tbody>\n",
       "    <tr>\n",
       "      <th>count</th>\n",
       "      <td>1226.000000</td>\n",
       "      <td>1226.000000</td>\n",
       "      <td>1226.000000</td>\n",
       "      <td>1226.000000</td>\n",
       "      <td>1.226000e+03</td>\n",
       "      <td>1.226000e+03</td>\n",
       "    </tr>\n",
       "    <tr>\n",
       "      <th>mean</th>\n",
       "      <td>33754.416803</td>\n",
       "      <td>34178.784666</td>\n",
       "      <td>33347.903752</td>\n",
       "      <td>33760.583197</td>\n",
       "      <td>7.275556e+05</td>\n",
       "      <td>2.440933e+10</td>\n",
       "    </tr>\n",
       "    <tr>\n",
       "      <th>std</th>\n",
       "      <td>10813.440409</td>\n",
       "      <td>10936.326802</td>\n",
       "      <td>10695.664102</td>\n",
       "      <td>10815.661389</td>\n",
       "      <td>4.137178e+05</td>\n",
       "      <td>1.526300e+10</td>\n",
       "    </tr>\n",
       "    <tr>\n",
       "      <th>min</th>\n",
       "      <td>13720.000000</td>\n",
       "      <td>13840.000000</td>\n",
       "      <td>13600.000000</td>\n",
       "      <td>13720.000000</td>\n",
       "      <td>1.391000e+05</td>\n",
       "      <td>3.966140e+09</td>\n",
       "    </tr>\n",
       "    <tr>\n",
       "      <th>25%</th>\n",
       "      <td>27788.750000</td>\n",
       "      <td>28091.250000</td>\n",
       "      <td>27401.250000</td>\n",
       "      <td>27675.000000</td>\n",
       "      <td>4.873000e+05</td>\n",
       "      <td>1.454097e+10</td>\n",
       "    </tr>\n",
       "    <tr>\n",
       "      <th>50%</th>\n",
       "      <td>34445.000000</td>\n",
       "      <td>34835.000000</td>\n",
       "      <td>33925.000000</td>\n",
       "      <td>34412.500000</td>\n",
       "      <td>6.260000e+05</td>\n",
       "      <td>2.153772e+10</td>\n",
       "    </tr>\n",
       "    <tr>\n",
       "      <th>75%</th>\n",
       "      <td>41412.500000</td>\n",
       "      <td>41900.000000</td>\n",
       "      <td>40810.000000</td>\n",
       "      <td>41365.000000</td>\n",
       "      <td>8.267000e+05</td>\n",
       "      <td>3.015922e+10</td>\n",
       "    </tr>\n",
       "    <tr>\n",
       "      <th>max</th>\n",
       "      <td>61550.000000</td>\n",
       "      <td>61970.000000</td>\n",
       "      <td>60740.000000</td>\n",
       "      <td>61930.000000</td>\n",
       "      <td>4.937300e+06</td>\n",
       "      <td>1.460450e+11</td>\n",
       "    </tr>\n",
       "  </tbody>\n",
       "</table>\n",
       "</div>"
      ],
      "text/plain": [
       "               Open          High           Low         Close        Volume  \\\n",
       "count   1226.000000   1226.000000   1226.000000   1226.000000  1.226000e+03   \n",
       "mean   33754.416803  34178.784666  33347.903752  33760.583197  7.275556e+05   \n",
       "std    10813.440409  10936.326802  10695.664102  10815.661389  4.137178e+05   \n",
       "min    13720.000000  13840.000000  13600.000000  13720.000000  1.391000e+05   \n",
       "25%    27788.750000  28091.250000  27401.250000  27675.000000  4.873000e+05   \n",
       "50%    34445.000000  34835.000000  33925.000000  34412.500000  6.260000e+05   \n",
       "75%    41412.500000  41900.000000  40810.000000  41365.000000  8.267000e+05   \n",
       "max    61550.000000  61970.000000  60740.000000  61930.000000  4.937300e+06   \n",
       "\n",
       "       Stock Trading  \n",
       "count   1.226000e+03  \n",
       "mean    2.440933e+10  \n",
       "std     1.526300e+10  \n",
       "min     3.966140e+09  \n",
       "25%     1.454097e+10  \n",
       "50%     2.153772e+10  \n",
       "75%     3.015922e+10  \n",
       "max     1.460450e+11  "
      ]
     },
     "execution_count": 294,
     "metadata": {},
     "output_type": "execute_result"
    }
   ],
   "source": [
    "# look at data statistics\n",
    "train.describe()"
   ]
  },
  {
   "cell_type": "code",
   "execution_count": 6,
   "metadata": {},
   "outputs": [
    {
     "name": "stderr",
     "output_type": "stream",
     "text": [
      "C:\\Users\\emmau\\AppData\\Local\\Temp\\ipykernel_16136\\544579026.py:2: FutureWarning: The default value of numeric_only in DataFrame.skew is deprecated. In a future version, it will default to False. In addition, specifying 'numeric_only=None' is deprecated. Select only valid columns or specify the value of numeric_only to silence this warning.\n",
      "  train.skew()\n"
     ]
    },
    {
     "data": {
      "text/plain": [
       "Open            -0.072705\n",
       "High            -0.083753\n",
       "Low             -0.054521\n",
       "Close           -0.065266\n",
       "Volume           3.333327\n",
       "Stock Trading    2.246844\n",
       "dtype: float64"
      ]
     },
     "execution_count": 6,
     "metadata": {},
     "output_type": "execute_result"
    }
   ],
   "source": [
    "#checking skewness\n",
    "train.skew()"
   ]
  },
  {
   "cell_type": "code",
   "execution_count": 7,
   "metadata": {},
   "outputs": [
    {
     "name": "stderr",
     "output_type": "stream",
     "text": [
      "C:\\Users\\emmau\\AppData\\Local\\Temp\\ipykernel_16136\\2936712521.py:2: FutureWarning: The default value of numeric_only in DataFrame.kurt is deprecated. In a future version, it will default to False. In addition, specifying 'numeric_only=None' is deprecated. Select only valid columns or specify the value of numeric_only to silence this warning.\n",
      "  train.kurtosis()\n"
     ]
    },
    {
     "data": {
      "text/plain": [
       "Open             -0.566187\n",
       "High             -0.560909\n",
       "Low              -0.561267\n",
       "Close            -0.554980\n",
       "Volume           18.725118\n",
       "Stock Trading     8.478203\n",
       "dtype: float64"
      ]
     },
     "execution_count": 7,
     "metadata": {},
     "output_type": "execute_result"
    }
   ],
   "source": [
    "#checking the kurtosis to see if there are outliers in our dataset\n",
    "train.kurtosis()"
   ]
  },
  {
   "cell_type": "code",
   "execution_count": 8,
   "metadata": {},
   "outputs": [
    {
     "data": {
      "text/plain": [
       "Date             0\n",
       "Open             0\n",
       "High             0\n",
       "Low              0\n",
       "Close            0\n",
       "Volume           0\n",
       "Stock Trading    0\n",
       "dtype: int64"
      ]
     },
     "execution_count": 8,
     "metadata": {},
     "output_type": "execute_result"
    }
   ],
   "source": [
    "train.isnull().sum()"
   ]
  },
  {
   "cell_type": "code",
   "execution_count": 9,
   "metadata": {},
   "outputs": [
    {
     "name": "stderr",
     "output_type": "stream",
     "text": [
      "C:\\Users\\emmau\\AppData\\Local\\Temp\\ipykernel_16136\\1233350892.py:4: FutureWarning: The default value of numeric_only in DataFrame.corr is deprecated. In a future version, it will default to False. Select only valid columns or specify the value of numeric_only to silence this warning.\n",
      "  heatmap = sns.heatmap(train.corr(), vmin=-1, vmax=1, annot=True)\n"
     ]
    },
    {
     "data": {
      "image/png": "[encoded data removed]",
      "text/plain": [
       "<Figure size 2000x2000 with 2 Axes>"
      ]
     },
     "metadata": {},
     "output_type": "display_data"
    }
   ],
   "source": [
    "# plot relevant feature interactions\n",
    "##Checking for Multicollinearity\n",
    "plt.figure(figsize=(20, 20))\n",
    "heatmap = sns.heatmap(train.corr(), vmin=-1, vmax=1, annot=True)\n",
    "heatmap.set_title('Close Heatmap', fontdict={'fontsize':6}, pad=3);"
   ]
  },
  {
   "cell_type": "code",
   "execution_count": 10,
   "metadata": {},
   "outputs": [
    {
     "name": "stderr",
     "output_type": "stream",
     "text": [
      "C:\\Users\\emmau\\AppData\\Local\\Temp\\ipykernel_16136\\368687591.py:2: FutureWarning: The default value of numeric_only in DataFrame.corr is deprecated. In a future version, it will default to False. Select only valid columns or specify the value of numeric_only to silence this warning.\n",
      "  heatmap = sns.heatmap(train.corr()[['Close']].sort_values(by='Close', ascending=False), vmin=-1, vmax=1, annot=True, cmap='BrBG')\n"
     ]
    },
    {
     "data": {
      "image/png": "[encoded data removed]",
      "text/plain": [
       "<Figure size 800x1200 with 2 Axes>"
      ]
     },
     "metadata": {},
     "output_type": "display_data"
    }
   ],
   "source": [
    "plt.figure(figsize=(8, 12))\n",
    "heatmap = sns.heatmap(train.corr()[['Close']].sort_values(by='Close', ascending=False), vmin=-1, vmax=1, annot=True, cmap='BrBG')\n",
    "heatmap.set_title('Features Correlating with Close', fontdict={'fontsize':18}, pad=16);"
   ]
  },
  {
   "cell_type": "code",
   "execution_count": 11,
   "metadata": {},
   "outputs": [
    {
     "data": {
      "image/png": "[encoded data removed]",
      "text/plain": [
       "<Figure size 3000x2000 with 6 Axes>"
      ]
     },
     "metadata": {},
     "output_type": "display_data"
    }
   ],
   "source": [
    "train.hist(figsize=(30,20));"
   ]
  },
  {
   "cell_type": "markdown",
   "metadata": {},
   "source": [
    "<a id=\"four\"></a>\n",
    "## 4. Data Engineering\n",
    "<a class=\"anchor\" id=\"1.1\"></a>\n",
    "<a href=#cont>Back to Table of Contents</a>\n",
    "---\n",
    "    \n",
    "| ⚡ Description: Data engineering ⚡ |\n",
    "| :--------------------------- |\n",
    "| In this section we are going to: clean the dataset, and possibly create new features - as identified in the EDA phase. This is the phase where we drop the features we identified to drop in the EDA phase|\n",
    "---"
   ]
  },
  {
   "cell_type": "code",
   "execution_count": 591,
   "metadata": {},
   "outputs": [],
   "source": [
    "y = train['Close']"
   ]
  },
  {
   "cell_type": "code",
   "execution_count": 608,
   "metadata": {},
   "outputs": [],
   "source": [
    "def feature_engineering(df):\n",
    "    df['Date'] = pd.to_datetime(df['Date'])\n",
    "    df.insert(3,'Month',train.Date.dt.month)\n",
    "    df.insert(2,'Year',train.Date.dt.year)\n",
    "    df.insert(4,'Day',train.Date.dt.day)\n",
    "    #df['quarter'] = df['Date'].dt.quarter\n",
    "    # Calculate the difference between \"high\" and \"low\" columns\n",
    "    #df[\"price_spread\"] = df[\"High\"] - df[\"Low\"]\n",
    "    drop_df = df.drop(['Date','Close', 'Volume', 'Stock Trading'], axis=1)\n",
    "    # initialize the StandardScaler object\n",
    "    #scaler = StandardScaler()\n",
    "    # fit and transform the data using the scaler\n",
    "    #scaled_data = scaler.fit_transform(drop_df)\n",
    "    return drop_df"
   ]
  },
  {
   "cell_type": "code",
   "execution_count": 609,
   "metadata": {},
   "outputs": [
    {
     "data": {
      "text/html": [
       "<div>\n",
       "<style scoped>\n",
       "    .dataframe tbody tr th:only-of-type {\n",
       "        vertical-align: middle;\n",
       "    }\n",
       "\n",
       "    .dataframe tbody tr th {\n",
       "        vertical-align: top;\n",
       "    }\n",
       "\n",
       "    .dataframe thead th {\n",
       "        text-align: right;\n",
       "    }\n",
       "</style>\n",
       "<table border=\"1\" class=\"dataframe\">\n",
       "  <thead>\n",
       "    <tr style=\"text-align: right;\">\n",
       "      <th></th>\n",
       "      <th>Open</th>\n",
       "      <th>Year</th>\n",
       "      <th>High</th>\n",
       "      <th>Day</th>\n",
       "      <th>Month</th>\n",
       "      <th>Low</th>\n",
       "    </tr>\n",
       "  </thead>\n",
       "  <tbody>\n",
       "    <tr>\n",
       "      <th>0</th>\n",
       "      <td>42120</td>\n",
       "      <td>2016</td>\n",
       "      <td>42330</td>\n",
       "      <td>30</td>\n",
       "      <td>12</td>\n",
       "      <td>41700</td>\n",
       "    </tr>\n",
       "    <tr>\n",
       "      <th>1</th>\n",
       "      <td>43000</td>\n",
       "      <td>2016</td>\n",
       "      <td>43220</td>\n",
       "      <td>29</td>\n",
       "      <td>12</td>\n",
       "      <td>42540</td>\n",
       "    </tr>\n",
       "    <tr>\n",
       "      <th>2</th>\n",
       "      <td>43940</td>\n",
       "      <td>2016</td>\n",
       "      <td>43970</td>\n",
       "      <td>28</td>\n",
       "      <td>12</td>\n",
       "      <td>43270</td>\n",
       "    </tr>\n",
       "    <tr>\n",
       "      <th>3</th>\n",
       "      <td>43140</td>\n",
       "      <td>2016</td>\n",
       "      <td>43700</td>\n",
       "      <td>27</td>\n",
       "      <td>12</td>\n",
       "      <td>43140</td>\n",
       "    </tr>\n",
       "    <tr>\n",
       "      <th>4</th>\n",
       "      <td>43310</td>\n",
       "      <td>2016</td>\n",
       "      <td>43660</td>\n",
       "      <td>26</td>\n",
       "      <td>12</td>\n",
       "      <td>43090</td>\n",
       "    </tr>\n",
       "    <tr>\n",
       "      <th>...</th>\n",
       "      <td>...</td>\n",
       "      <td>...</td>\n",
       "      <td>...</td>\n",
       "      <td>...</td>\n",
       "      <td>...</td>\n",
       "      <td>...</td>\n",
       "    </tr>\n",
       "    <tr>\n",
       "      <th>1221</th>\n",
       "      <td>14360</td>\n",
       "      <td>2012</td>\n",
       "      <td>14750</td>\n",
       "      <td>11</td>\n",
       "      <td>1</td>\n",
       "      <td>14280</td>\n",
       "    </tr>\n",
       "    <tr>\n",
       "      <th>1222</th>\n",
       "      <td>13890</td>\n",
       "      <td>2012</td>\n",
       "      <td>14390</td>\n",
       "      <td>10</td>\n",
       "      <td>1</td>\n",
       "      <td>13860</td>\n",
       "    </tr>\n",
       "    <tr>\n",
       "      <th>1223</th>\n",
       "      <td>13990</td>\n",
       "      <td>2012</td>\n",
       "      <td>14030</td>\n",
       "      <td>6</td>\n",
       "      <td>1</td>\n",
       "      <td>13790</td>\n",
       "    </tr>\n",
       "    <tr>\n",
       "      <th>1224</th>\n",
       "      <td>13720</td>\n",
       "      <td>2012</td>\n",
       "      <td>13840</td>\n",
       "      <td>5</td>\n",
       "      <td>1</td>\n",
       "      <td>13600</td>\n",
       "    </tr>\n",
       "    <tr>\n",
       "      <th>1225</th>\n",
       "      <td>14050</td>\n",
       "      <td>2012</td>\n",
       "      <td>14050</td>\n",
       "      <td>4</td>\n",
       "      <td>1</td>\n",
       "      <td>13700</td>\n",
       "    </tr>\n",
       "  </tbody>\n",
       "</table>\n",
       "<p>1226 rows × 6 columns</p>\n",
       "</div>"
      ],
      "text/plain": [
       "       Open  Year   High  Day  Month    Low\n",
       "0     42120  2016  42330   30     12  41700\n",
       "1     43000  2016  43220   29     12  42540\n",
       "2     43940  2016  43970   28     12  43270\n",
       "3     43140  2016  43700   27     12  43140\n",
       "4     43310  2016  43660   26     12  43090\n",
       "...     ...   ...    ...  ...    ...    ...\n",
       "1221  14360  2012  14750   11      1  14280\n",
       "1222  13890  2012  14390   10      1  13860\n",
       "1223  13990  2012  14030    6      1  13790\n",
       "1224  13720  2012  13840    5      1  13600\n",
       "1225  14050  2012  14050    4      1  13700\n",
       "\n",
       "[1226 rows x 6 columns]"
      ]
     },
     "execution_count": 609,
     "metadata": {},
     "output_type": "execute_result"
    }
   ],
   "source": [
    "X = feature_engineering(train)\n",
    "X"
   ]
  },
  {
   "cell_type": "code",
   "execution_count": 382,
   "metadata": {},
   "outputs": [],
   "source": [
    "#plt.figure(figsize=(8, 12))\n",
    "#heatmap = sns.heatmap(X.corr()[['Close']].sort_values(by='Close', ascending=False), vmin=-1, vmax=1, annot=True, cmap='BrBG')\n",
    "#heatmap.set_title('Features Correlating with Close', fontdict={'fontsize':18}, pad=16);"
   ]
  },
  {
   "cell_type": "code",
   "execution_count": 610,
   "metadata": {},
   "outputs": [
    {
     "data": {
      "text/plain": [
       "0    38430\n",
       "1    38010\n",
       "2    38560\n",
       "3    38690\n",
       "4    39720\n",
       "5    42590\n",
       "6    43290\n",
       "Name: Close, dtype: int64"
      ]
     },
     "execution_count": 610,
     "metadata": {},
     "output_type": "execute_result"
    }
   ],
   "source": [
    "test_y = test['Close']\n",
    "test_y"
   ]
  },
  {
   "cell_type": "code",
   "execution_count": 611,
   "metadata": {},
   "outputs": [
    {
     "data": {
      "text/html": [
       "<div>\n",
       "<style scoped>\n",
       "    .dataframe tbody tr th:only-of-type {\n",
       "        vertical-align: middle;\n",
       "    }\n",
       "\n",
       "    .dataframe tbody tr th {\n",
       "        vertical-align: top;\n",
       "    }\n",
       "\n",
       "    .dataframe thead th {\n",
       "        text-align: right;\n",
       "    }\n",
       "</style>\n",
       "<table border=\"1\" class=\"dataframe\">\n",
       "  <thead>\n",
       "    <tr style=\"text-align: right;\">\n",
       "      <th></th>\n",
       "      <th>Open</th>\n",
       "      <th>Year</th>\n",
       "      <th>High</th>\n",
       "      <th>Day</th>\n",
       "      <th>Month</th>\n",
       "      <th>Low</th>\n",
       "    </tr>\n",
       "  </thead>\n",
       "  <tbody>\n",
       "    <tr>\n",
       "      <th>0</th>\n",
       "      <td>38900</td>\n",
       "      <td>2016</td>\n",
       "      <td>39380</td>\n",
       "      <td>30</td>\n",
       "      <td>12</td>\n",
       "      <td>38240</td>\n",
       "    </tr>\n",
       "    <tr>\n",
       "      <th>1</th>\n",
       "      <td>38300</td>\n",
       "      <td>2016</td>\n",
       "      <td>38450</td>\n",
       "      <td>29</td>\n",
       "      <td>12</td>\n",
       "      <td>37930</td>\n",
       "    </tr>\n",
       "    <tr>\n",
       "      <th>2</th>\n",
       "      <td>38710</td>\n",
       "      <td>2016</td>\n",
       "      <td>38880</td>\n",
       "      <td>28</td>\n",
       "      <td>12</td>\n",
       "      <td>38480</td>\n",
       "    </tr>\n",
       "    <tr>\n",
       "      <th>3</th>\n",
       "      <td>38620</td>\n",
       "      <td>2016</td>\n",
       "      <td>38850</td>\n",
       "      <td>27</td>\n",
       "      <td>12</td>\n",
       "      <td>38150</td>\n",
       "    </tr>\n",
       "    <tr>\n",
       "      <th>4</th>\n",
       "      <td>40500</td>\n",
       "      <td>2016</td>\n",
       "      <td>41030</td>\n",
       "      <td>26</td>\n",
       "      <td>12</td>\n",
       "      <td>39720</td>\n",
       "    </tr>\n",
       "    <tr>\n",
       "      <th>5</th>\n",
       "      <td>43250</td>\n",
       "      <td>2016</td>\n",
       "      <td>43330</td>\n",
       "      <td>22</td>\n",
       "      <td>12</td>\n",
       "      <td>42470</td>\n",
       "    </tr>\n",
       "    <tr>\n",
       "      <th>6</th>\n",
       "      <td>42480</td>\n",
       "      <td>2016</td>\n",
       "      <td>43330</td>\n",
       "      <td>21</td>\n",
       "      <td>12</td>\n",
       "      <td>42450</td>\n",
       "    </tr>\n",
       "  </tbody>\n",
       "</table>\n",
       "</div>"
      ],
      "text/plain": [
       "    Open  Year   High  Day  Month    Low\n",
       "0  38900  2016  39380   30     12  38240\n",
       "1  38300  2016  38450   29     12  37930\n",
       "2  38710  2016  38880   28     12  38480\n",
       "3  38620  2016  38850   27     12  38150\n",
       "4  40500  2016  41030   26     12  39720\n",
       "5  43250  2016  43330   22     12  42470\n",
       "6  42480  2016  43330   21     12  42450"
      ]
     },
     "execution_count": 611,
     "metadata": {},
     "output_type": "execute_result"
    }
   ],
   "source": [
    "new_data = feature_engineering(test)\n",
    "new_data"
   ]
  },
  {
   "cell_type": "markdown",
   "metadata": {},
   "source": [
    "<a id=\"five\"></a>\n",
    "# 5. Modelling\n",
    "<a class=\"anchor\" id=\"1.1\"></a>\n",
    "<a href=#cont>Back to Table of Contents</a> \n",
    "\n",
    "---\n",
    "\n",
    "    \n",
    "| ⚡ Description: Modelling ⚡ |\n",
    "| :--------------------------- |\n",
    "| In this section, we created classification models that are able to accurately predict the sentiments |\n",
    "\n",
    "---"
   ]
  },
  {
   "cell_type": "code",
   "execution_count": 612,
   "metadata": {},
   "outputs": [],
   "source": [
    "#train-test split\n",
    "x_train, x_test, y_train, y_test = train_test_split(X, y, \n",
    "random_state = 42, test_size = 0.20)"
   ]
  },
  {
   "cell_type": "code",
   "execution_count": 613,
   "metadata": {},
   "outputs": [],
   "source": [
    "def train_model(model, X_train, y_train):\n",
    "    \"\"\"\n",
    "    Trains a machine learning model on input training data.\n",
    "    \n",
    "    Parameters:\n",
    "        model (object): A machine learning model object with a `fit` method.\n",
    "        X_train (array-like): Input training data for the model.\n",
    "        y_train (array-like): Output training data for the model.\n",
    "        \n",
    "    Returns:\n",
    "        object: A trained machine learning model object.\n",
    "    \"\"\"\n",
    "    # Fit the model on the input training data\n",
    "    model.fit(X_train, y_train)\n",
    "    \n",
    "    # Return the trained model\n",
    "    return model"
   ]
  },
  {
   "cell_type": "code",
   "execution_count": 614,
   "metadata": {},
   "outputs": [],
   "source": [
    "#initializing the model the algorithms\n",
    "lr = LinearRegression()\n",
    "regressor = RandomForestRegressor()\n",
    "xgbr = xgb.XGBRegressor(verbosity=0)\n",
    "model = LGBMRegressor()"
   ]
  },
  {
   "cell_type": "code",
   "execution_count": 615,
   "metadata": {},
   "outputs": [
    {
     "data": {
      "text/html": [
       "<style>#sk-container-id-84 {color: black;background-color: white;}#sk-container-id-84 pre{padding: 0;}#sk-container-id-84 div.sk-toggleable {background-color: white;}#sk-container-id-84 label.sk-toggleable__label {cursor: pointer;display: block;width: 100%;margin-bottom: 0;padding: 0.3em;box-sizing: border-box;text-align: center;}#sk-container-id-84 label.sk-toggleable__label-arrow:before {content: \"▸\";float: left;margin-right: 0.25em;color: #696969;}#sk-container-id-84 label.sk-toggleable__label-arrow:hover:before {color: black;}#sk-container-id-84 div.sk-estimator:hover label.sk-toggleable__label-arrow:before {color: black;}#sk-container-id-84 div.sk-toggleable__content {max-height: 0;max-width: 0;overflow: hidden;text-align: left;background-color: #f0f8ff;}#sk-container-id-84 div.sk-toggleable__content pre {margin: 0.2em;color: black;border-radius: 0.25em;background-color: #f0f8ff;}#sk-container-id-84 input.sk-toggleable__control:checked~div.sk-toggleable__content {max-height: 200px;max-width: 100%;overflow: auto;}#sk-container-id-84 input.sk-toggleable__control:checked~label.sk-toggleable__label-arrow:before {content: \"▾\";}#sk-container-id-84 div.sk-estimator input.sk-toggleable__control:checked~label.sk-toggleable__label {background-color: #d4ebff;}#sk-container-id-84 div.sk-label input.sk-toggleable__control:checked~label.sk-toggleable__label {background-color: #d4ebff;}#sk-container-id-84 input.sk-hidden--visually {border: 0;clip: rect(1px 1px 1px 1px);clip: rect(1px, 1px, 1px, 1px);height: 1px;margin: -1px;overflow: hidden;padding: 0;position: absolute;width: 1px;}#sk-container-id-84 div.sk-estimator {font-family: monospace;background-color: #f0f8ff;border: 1px dotted black;border-radius: 0.25em;box-sizing: border-box;margin-bottom: 0.5em;}#sk-container-id-84 div.sk-estimator:hover {background-color: #d4ebff;}#sk-container-id-84 div.sk-parallel-item::after {content: \"\";width: 100%;border-bottom: 1px solid gray;flex-grow: 1;}#sk-container-id-84 div.sk-label:hover label.sk-toggleable__label {background-color: #d4ebff;}#sk-container-id-84 div.sk-serial::before {content: \"\";position: absolute;border-left: 1px solid gray;box-sizing: border-box;top: 0;bottom: 0;left: 50%;z-index: 0;}#sk-container-id-84 div.sk-serial {display: flex;flex-direction: column;align-items: center;background-color: white;padding-right: 0.2em;padding-left: 0.2em;position: relative;}#sk-container-id-84 div.sk-item {position: relative;z-index: 1;}#sk-container-id-84 div.sk-parallel {display: flex;align-items: stretch;justify-content: center;background-color: white;position: relative;}#sk-container-id-84 div.sk-item::before, #sk-container-id-84 div.sk-parallel-item::before {content: \"\";position: absolute;border-left: 1px solid gray;box-sizing: border-box;top: 0;bottom: 0;left: 50%;z-index: -1;}#sk-container-id-84 div.sk-parallel-item {display: flex;flex-direction: column;z-index: 1;position: relative;background-color: white;}#sk-container-id-84 div.sk-parallel-item:first-child::after {align-self: flex-end;width: 50%;}#sk-container-id-84 div.sk-parallel-item:last-child::after {align-self: flex-start;width: 50%;}#sk-container-id-84 div.sk-parallel-item:only-child::after {width: 0;}#sk-container-id-84 div.sk-dashed-wrapped {border: 1px dashed gray;margin: 0 0.4em 0.5em 0.4em;box-sizing: border-box;padding-bottom: 0.4em;background-color: white;}#sk-container-id-84 div.sk-label label {font-family: monospace;font-weight: bold;display: inline-block;line-height: 1.2em;}#sk-container-id-84 div.sk-label-container {text-align: center;}#sk-container-id-84 div.sk-container {/* jupyter's `normalize.less` sets `[hidden] { display: none; }` but bootstrap.min.css set `[hidden] { display: none !important; }` so we also need the `!important` here to be able to override the default hidden behavior on the sphinx rendered scikit-learn.org. See: https://github.com/scikit-learn/scikit-learn/issues/21755 */display: inline-block !important;position: relative;}#sk-container-id-84 div.sk-text-repr-fallback {display: none;}</style><div id=\"sk-container-id-84\" class=\"sk-top-container\"><div class=\"sk-text-repr-fallback\"><pre>LinearRegression()</pre><b>In a Jupyter environment, please rerun this cell to show the HTML representation or trust the notebook. <br />On GitHub, the HTML representation is unable to render, please try loading this page with nbviewer.org.</b></div><div class=\"sk-container\" hidden><div class=\"sk-item\"><div class=\"sk-estimator sk-toggleable\"><input class=\"sk-toggleable__control sk-hidden--visually\" id=\"sk-estimator-id-158\" type=\"checkbox\" checked><label for=\"sk-estimator-id-158\" class=\"sk-toggleable__label sk-toggleable__label-arrow\">LinearRegression</label><div class=\"sk-toggleable__content\"><pre>LinearRegression()</pre></div></div></div></div></div>"
      ],
      "text/plain": [
       "LinearRegression()"
      ]
     },
     "execution_count": 615,
     "metadata": {},
     "output_type": "execute_result"
    }
   ],
   "source": [
    "#training linear regression model\n",
    "lr_model = train_model(lr, x_train, y_train)\n",
    "lr_model"
   ]
  },
  {
   "cell_type": "code",
   "execution_count": 616,
   "metadata": {},
   "outputs": [
    {
     "data": {
      "text/html": [
       "<style>#sk-container-id-85 {color: black;background-color: white;}#sk-container-id-85 pre{padding: 0;}#sk-container-id-85 div.sk-toggleable {background-color: white;}#sk-container-id-85 label.sk-toggleable__label {cursor: pointer;display: block;width: 100%;margin-bottom: 0;padding: 0.3em;box-sizing: border-box;text-align: center;}#sk-container-id-85 label.sk-toggleable__label-arrow:before {content: \"▸\";float: left;margin-right: 0.25em;color: #696969;}#sk-container-id-85 label.sk-toggleable__label-arrow:hover:before {color: black;}#sk-container-id-85 div.sk-estimator:hover label.sk-toggleable__label-arrow:before {color: black;}#sk-container-id-85 div.sk-toggleable__content {max-height: 0;max-width: 0;overflow: hidden;text-align: left;background-color: #f0f8ff;}#sk-container-id-85 div.sk-toggleable__content pre {margin: 0.2em;color: black;border-radius: 0.25em;background-color: #f0f8ff;}#sk-container-id-85 input.sk-toggleable__control:checked~div.sk-toggleable__content {max-height: 200px;max-width: 100%;overflow: auto;}#sk-container-id-85 input.sk-toggleable__control:checked~label.sk-toggleable__label-arrow:before {content: \"▾\";}#sk-container-id-85 div.sk-estimator input.sk-toggleable__control:checked~label.sk-toggleable__label {background-color: #d4ebff;}#sk-container-id-85 div.sk-label input.sk-toggleable__control:checked~label.sk-toggleable__label {background-color: #d4ebff;}#sk-container-id-85 input.sk-hidden--visually {border: 0;clip: rect(1px 1px 1px 1px);clip: rect(1px, 1px, 1px, 1px);height: 1px;margin: -1px;overflow: hidden;padding: 0;position: absolute;width: 1px;}#sk-container-id-85 div.sk-estimator {font-family: monospace;background-color: #f0f8ff;border: 1px dotted black;border-radius: 0.25em;box-sizing: border-box;margin-bottom: 0.5em;}#sk-container-id-85 div.sk-estimator:hover {background-color: #d4ebff;}#sk-container-id-85 div.sk-parallel-item::after {content: \"\";width: 100%;border-bottom: 1px solid gray;flex-grow: 1;}#sk-container-id-85 div.sk-label:hover label.sk-toggleable__label {background-color: #d4ebff;}#sk-container-id-85 div.sk-serial::before {content: \"\";position: absolute;border-left: 1px solid gray;box-sizing: border-box;top: 0;bottom: 0;left: 50%;z-index: 0;}#sk-container-id-85 div.sk-serial {display: flex;flex-direction: column;align-items: center;background-color: white;padding-right: 0.2em;padding-left: 0.2em;position: relative;}#sk-container-id-85 div.sk-item {position: relative;z-index: 1;}#sk-container-id-85 div.sk-parallel {display: flex;align-items: stretch;justify-content: center;background-color: white;position: relative;}#sk-container-id-85 div.sk-item::before, #sk-container-id-85 div.sk-parallel-item::before {content: \"\";position: absolute;border-left: 1px solid gray;box-sizing: border-box;top: 0;bottom: 0;left: 50%;z-index: -1;}#sk-container-id-85 div.sk-parallel-item {display: flex;flex-direction: column;z-index: 1;position: relative;background-color: white;}#sk-container-id-85 div.sk-parallel-item:first-child::after {align-self: flex-end;width: 50%;}#sk-container-id-85 div.sk-parallel-item:last-child::after {align-self: flex-start;width: 50%;}#sk-container-id-85 div.sk-parallel-item:only-child::after {width: 0;}#sk-container-id-85 div.sk-dashed-wrapped {border: 1px dashed gray;margin: 0 0.4em 0.5em 0.4em;box-sizing: border-box;padding-bottom: 0.4em;background-color: white;}#sk-container-id-85 div.sk-label label {font-family: monospace;font-weight: bold;display: inline-block;line-height: 1.2em;}#sk-container-id-85 div.sk-label-container {text-align: center;}#sk-container-id-85 div.sk-container {/* jupyter's `normalize.less` sets `[hidden] { display: none; }` but bootstrap.min.css set `[hidden] { display: none !important; }` so we also need the `!important` here to be able to override the default hidden behavior on the sphinx rendered scikit-learn.org. See: https://github.com/scikit-learn/scikit-learn/issues/21755 */display: inline-block !important;position: relative;}#sk-container-id-85 div.sk-text-repr-fallback {display: none;}</style><div id=\"sk-container-id-85\" class=\"sk-top-container\"><div class=\"sk-text-repr-fallback\"><pre>RandomForestRegressor()</pre><b>In a Jupyter environment, please rerun this cell to show the HTML representation or trust the notebook. <br />On GitHub, the HTML representation is unable to render, please try loading this page with nbviewer.org.</b></div><div class=\"sk-container\" hidden><div class=\"sk-item\"><div class=\"sk-estimator sk-toggleable\"><input class=\"sk-toggleable__control sk-hidden--visually\" id=\"sk-estimator-id-159\" type=\"checkbox\" checked><label for=\"sk-estimator-id-159\" class=\"sk-toggleable__label sk-toggleable__label-arrow\">RandomForestRegressor</label><div class=\"sk-toggleable__content\"><pre>RandomForestRegressor()</pre></div></div></div></div></div>"
      ],
      "text/plain": [
       "RandomForestRegressor()"
      ]
     },
     "execution_count": 616,
     "metadata": {},
     "output_type": "execute_result"
    }
   ],
   "source": [
    "#training randomforest model\n",
    "rf = train_model(regressor, x_train, y_train)\n",
    "rf"
   ]
  },
  {
   "cell_type": "code",
   "execution_count": 631,
   "metadata": {},
   "outputs": [
    {
     "data": {
      "text/html": [
       "<style>#sk-container-id-88 {color: black;background-color: white;}#sk-container-id-88 pre{padding: 0;}#sk-container-id-88 div.sk-toggleable {background-color: white;}#sk-container-id-88 label.sk-toggleable__label {cursor: pointer;display: block;width: 100%;margin-bottom: 0;padding: 0.3em;box-sizing: border-box;text-align: center;}#sk-container-id-88 label.sk-toggleable__label-arrow:before {content: \"▸\";float: left;margin-right: 0.25em;color: #696969;}#sk-container-id-88 label.sk-toggleable__label-arrow:hover:before {color: black;}#sk-container-id-88 div.sk-estimator:hover label.sk-toggleable__label-arrow:before {color: black;}#sk-container-id-88 div.sk-toggleable__content {max-height: 0;max-width: 0;overflow: hidden;text-align: left;background-color: #f0f8ff;}#sk-container-id-88 div.sk-toggleable__content pre {margin: 0.2em;color: black;border-radius: 0.25em;background-color: #f0f8ff;}#sk-container-id-88 input.sk-toggleable__control:checked~div.sk-toggleable__content {max-height: 200px;max-width: 100%;overflow: auto;}#sk-container-id-88 input.sk-toggleable__control:checked~label.sk-toggleable__label-arrow:before {content: \"▾\";}#sk-container-id-88 div.sk-estimator input.sk-toggleable__control:checked~label.sk-toggleable__label {background-color: #d4ebff;}#sk-container-id-88 div.sk-label input.sk-toggleable__control:checked~label.sk-toggleable__label {background-color: #d4ebff;}#sk-container-id-88 input.sk-hidden--visually {border: 0;clip: rect(1px 1px 1px 1px);clip: rect(1px, 1px, 1px, 1px);height: 1px;margin: -1px;overflow: hidden;padding: 0;position: absolute;width: 1px;}#sk-container-id-88 div.sk-estimator {font-family: monospace;background-color: #f0f8ff;border: 1px dotted black;border-radius: 0.25em;box-sizing: border-box;margin-bottom: 0.5em;}#sk-container-id-88 div.sk-estimator:hover {background-color: #d4ebff;}#sk-container-id-88 div.sk-parallel-item::after {content: \"\";width: 100%;border-bottom: 1px solid gray;flex-grow: 1;}#sk-container-id-88 div.sk-label:hover label.sk-toggleable__label {background-color: #d4ebff;}#sk-container-id-88 div.sk-serial::before {content: \"\";position: absolute;border-left: 1px solid gray;box-sizing: border-box;top: 0;bottom: 0;left: 50%;z-index: 0;}#sk-container-id-88 div.sk-serial {display: flex;flex-direction: column;align-items: center;background-color: white;padding-right: 0.2em;padding-left: 0.2em;position: relative;}#sk-container-id-88 div.sk-item {position: relative;z-index: 1;}#sk-container-id-88 div.sk-parallel {display: flex;align-items: stretch;justify-content: center;background-color: white;position: relative;}#sk-container-id-88 div.sk-item::before, #sk-container-id-88 div.sk-parallel-item::before {content: \"\";position: absolute;border-left: 1px solid gray;box-sizing: border-box;top: 0;bottom: 0;left: 50%;z-index: -1;}#sk-container-id-88 div.sk-parallel-item {display: flex;flex-direction: column;z-index: 1;position: relative;background-color: white;}#sk-container-id-88 div.sk-parallel-item:first-child::after {align-self: flex-end;width: 50%;}#sk-container-id-88 div.sk-parallel-item:last-child::after {align-self: flex-start;width: 50%;}#sk-container-id-88 div.sk-parallel-item:only-child::after {width: 0;}#sk-container-id-88 div.sk-dashed-wrapped {border: 1px dashed gray;margin: 0 0.4em 0.5em 0.4em;box-sizing: border-box;padding-bottom: 0.4em;background-color: white;}#sk-container-id-88 div.sk-label label {font-family: monospace;font-weight: bold;display: inline-block;line-height: 1.2em;}#sk-container-id-88 div.sk-label-container {text-align: center;}#sk-container-id-88 div.sk-container {/* jupyter's `normalize.less` sets `[hidden] { display: none; }` but bootstrap.min.css set `[hidden] { display: none !important; }` so we also need the `!important` here to be able to override the default hidden behavior on the sphinx rendered scikit-learn.org. See: https://github.com/scikit-learn/scikit-learn/issues/21755 */display: inline-block !important;position: relative;}#sk-container-id-88 div.sk-text-repr-fallback {display: none;}</style><div id=\"sk-container-id-88\" class=\"sk-top-container\"><div class=\"sk-text-repr-fallback\"><pre>GridSearchCV(cv=5,\n",
       "             estimator=XGBRegressor(base_score=None, booster=None,\n",
       "                                    callbacks=None, colsample_bylevel=None,\n",
       "                                    colsample_bynode=None,\n",
       "                                    colsample_bytree=None,\n",
       "                                    early_stopping_rounds=None,\n",
       "                                    enable_categorical=False, eval_metric=None,\n",
       "                                    feature_types=None, gamma=None, gpu_id=None,\n",
       "                                    grow_policy=None, importance_type=None,\n",
       "                                    interaction_constraints=None,\n",
       "                                    learning_rate=None, m...\n",
       "                                    max_cat_to_onehot=None, max_delta_step=None,\n",
       "                                    max_depth=None, max_leaves=None,\n",
       "                                    min_child_weight=None, missing=nan,\n",
       "                                    monotone_constraints=None, n_estimators=100,\n",
       "                                    n_jobs=None, num_parallel_tree=None,\n",
       "                                    predictor=None, random_state=None, ...),\n",
       "             param_grid={&#x27;learning_rate&#x27;: [0.001, 0.01, 0.1, 0.2, 0.3],\n",
       "                         &#x27;max_depth&#x27;: [3, 5, 7],\n",
       "                         &#x27;n_estimators&#x27;: [50, 100, 200]},\n",
       "             scoring=&#x27;neg_mean_squared_error&#x27;)</pre><b>In a Jupyter environment, please rerun this cell to show the HTML representation or trust the notebook. <br />On GitHub, the HTML representation is unable to render, please try loading this page with nbviewer.org.</b></div><div class=\"sk-container\" hidden><div class=\"sk-item sk-dashed-wrapped\"><div class=\"sk-label-container\"><div class=\"sk-label sk-toggleable\"><input class=\"sk-toggleable__control sk-hidden--visually\" id=\"sk-estimator-id-167\" type=\"checkbox\" ><label for=\"sk-estimator-id-167\" class=\"sk-toggleable__label sk-toggleable__label-arrow\">GridSearchCV</label><div class=\"sk-toggleable__content\"><pre>GridSearchCV(cv=5,\n",
       "             estimator=XGBRegressor(base_score=None, booster=None,\n",
       "                                    callbacks=None, colsample_bylevel=None,\n",
       "                                    colsample_bynode=None,\n",
       "                                    colsample_bytree=None,\n",
       "                                    early_stopping_rounds=None,\n",
       "                                    enable_categorical=False, eval_metric=None,\n",
       "                                    feature_types=None, gamma=None, gpu_id=None,\n",
       "                                    grow_policy=None, importance_type=None,\n",
       "                                    interaction_constraints=None,\n",
       "                                    learning_rate=None, m...\n",
       "                                    max_cat_to_onehot=None, max_delta_step=None,\n",
       "                                    max_depth=None, max_leaves=None,\n",
       "                                    min_child_weight=None, missing=nan,\n",
       "                                    monotone_constraints=None, n_estimators=100,\n",
       "                                    n_jobs=None, num_parallel_tree=None,\n",
       "                                    predictor=None, random_state=None, ...),\n",
       "             param_grid={&#x27;learning_rate&#x27;: [0.001, 0.01, 0.1, 0.2, 0.3],\n",
       "                         &#x27;max_depth&#x27;: [3, 5, 7],\n",
       "                         &#x27;n_estimators&#x27;: [50, 100, 200]},\n",
       "             scoring=&#x27;neg_mean_squared_error&#x27;)</pre></div></div></div><div class=\"sk-parallel\"><div class=\"sk-parallel-item\"><div class=\"sk-item\"><div class=\"sk-label-container\"><div class=\"sk-label sk-toggleable\"><input class=\"sk-toggleable__control sk-hidden--visually\" id=\"sk-estimator-id-168\" type=\"checkbox\" ><label for=\"sk-estimator-id-168\" class=\"sk-toggleable__label sk-toggleable__label-arrow\">estimator: XGBRegressor</label><div class=\"sk-toggleable__content\"><pre>XGBRegressor(base_score=None, booster=None, callbacks=None,\n",
       "             colsample_bylevel=None, colsample_bynode=None,\n",
       "             colsample_bytree=None, early_stopping_rounds=None,\n",
       "             enable_categorical=False, eval_metric=None, feature_types=None,\n",
       "             gamma=None, gpu_id=None, grow_policy=None, importance_type=None,\n",
       "             interaction_constraints=None, learning_rate=None, max_bin=None,\n",
       "             max_cat_threshold=None, max_cat_to_onehot=None,\n",
       "             max_delta_step=None, max_depth=None, max_leaves=None,\n",
       "             min_child_weight=None, missing=nan, monotone_constraints=None,\n",
       "             n_estimators=100, n_jobs=None, num_parallel_tree=None,\n",
       "             predictor=None, random_state=None, ...)</pre></div></div></div><div class=\"sk-serial\"><div class=\"sk-item\"><div class=\"sk-estimator sk-toggleable\"><input class=\"sk-toggleable__control sk-hidden--visually\" id=\"sk-estimator-id-169\" type=\"checkbox\" ><label for=\"sk-estimator-id-169\" class=\"sk-toggleable__label sk-toggleable__label-arrow\">XGBRegressor</label><div class=\"sk-toggleable__content\"><pre>XGBRegressor(base_score=None, booster=None, callbacks=None,\n",
       "             colsample_bylevel=None, colsample_bynode=None,\n",
       "             colsample_bytree=None, early_stopping_rounds=None,\n",
       "             enable_categorical=False, eval_metric=None, feature_types=None,\n",
       "             gamma=None, gpu_id=None, grow_policy=None, importance_type=None,\n",
       "             interaction_constraints=None, learning_rate=None, max_bin=None,\n",
       "             max_cat_threshold=None, max_cat_to_onehot=None,\n",
       "             max_delta_step=None, max_depth=None, max_leaves=None,\n",
       "             min_child_weight=None, missing=nan, monotone_constraints=None,\n",
       "             n_estimators=100, n_jobs=None, num_parallel_tree=None,\n",
       "             predictor=None, random_state=None, ...)</pre></div></div></div></div></div></div></div></div></div></div>"
      ],
      "text/plain": [
       "GridSearchCV(cv=5,\n",
       "             estimator=XGBRegressor(base_score=None, booster=None,\n",
       "                                    callbacks=None, colsample_bylevel=None,\n",
       "                                    colsample_bynode=None,\n",
       "                                    colsample_bytree=None,\n",
       "                                    early_stopping_rounds=None,\n",
       "                                    enable_categorical=False, eval_metric=None,\n",
       "                                    feature_types=None, gamma=None, gpu_id=None,\n",
       "                                    grow_policy=None, importance_type=None,\n",
       "                                    interaction_constraints=None,\n",
       "                                    learning_rate=None, m...\n",
       "                                    max_cat_to_onehot=None, max_delta_step=None,\n",
       "                                    max_depth=None, max_leaves=None,\n",
       "                                    min_child_weight=None, missing=nan,\n",
       "                                    monotone_constraints=None, n_estimators=100,\n",
       "                                    n_jobs=None, num_parallel_tree=None,\n",
       "                                    predictor=None, random_state=None, ...),\n",
       "             param_grid={'learning_rate': [0.001, 0.01, 0.1, 0.2, 0.3],\n",
       "                         'max_depth': [3, 5, 7],\n",
       "                         'n_estimators': [50, 100, 200]},\n",
       "             scoring='neg_mean_squared_error')"
      ]
     },
     "execution_count": 631,
     "metadata": {},
     "output_type": "execute_result"
    }
   ],
   "source": [
    "#training XGBOOST model\n",
    "# Defining the parameter grid for XGBoost\n",
    "param_grid_xgb = {\n",
    "    'max_depth': [3, 5, 7],\n",
    "    'learning_rate': [0.001, 0.01, 0.1, 0.2, 0.3],\n",
    "    'n_estimators': [50, 100, 200],\n",
    "}\n",
    "grid_search_xgb = GridSearchCV(xgbr, param_grid=param_grid_xgb, scoring='neg_mean_squared_error', cv=5)\n",
    "xgbm = train_model(grid_search_xgb, x_train, y_train)\n",
    "xgbm"
   ]
  },
  {
   "cell_type": "code",
   "execution_count": 632,
   "metadata": {},
   "outputs": [],
   "source": [
    "models = [(\"xgb\", xgbm), (\"lreg\", lr_model)]\n",
    "# Specify weights for weighted model averaging\n",
    "model_weightings = np.array([0.7, 0.3])\n",
    "v_reg = VotingRegressor(estimators=models,weights=model_weightings)"
   ]
  },
  {
   "cell_type": "code",
   "execution_count": 633,
   "metadata": {},
   "outputs": [
    {
     "data": {
      "text/html": [
       "<style>#sk-container-id-89 {color: black;background-color: white;}#sk-container-id-89 pre{padding: 0;}#sk-container-id-89 div.sk-toggleable {background-color: white;}#sk-container-id-89 label.sk-toggleable__label {cursor: pointer;display: block;width: 100%;margin-bottom: 0;padding: 0.3em;box-sizing: border-box;text-align: center;}#sk-container-id-89 label.sk-toggleable__label-arrow:before {content: \"▸\";float: left;margin-right: 0.25em;color: #696969;}#sk-container-id-89 label.sk-toggleable__label-arrow:hover:before {color: black;}#sk-container-id-89 div.sk-estimator:hover label.sk-toggleable__label-arrow:before {color: black;}#sk-container-id-89 div.sk-toggleable__content {max-height: 0;max-width: 0;overflow: hidden;text-align: left;background-color: #f0f8ff;}#sk-container-id-89 div.sk-toggleable__content pre {margin: 0.2em;color: black;border-radius: 0.25em;background-color: #f0f8ff;}#sk-container-id-89 input.sk-toggleable__control:checked~div.sk-toggleable__content {max-height: 200px;max-width: 100%;overflow: auto;}#sk-container-id-89 input.sk-toggleable__control:checked~label.sk-toggleable__label-arrow:before {content: \"▾\";}#sk-container-id-89 div.sk-estimator input.sk-toggleable__control:checked~label.sk-toggleable__label {background-color: #d4ebff;}#sk-container-id-89 div.sk-label input.sk-toggleable__control:checked~label.sk-toggleable__label {background-color: #d4ebff;}#sk-container-id-89 input.sk-hidden--visually {border: 0;clip: rect(1px 1px 1px 1px);clip: rect(1px, 1px, 1px, 1px);height: 1px;margin: -1px;overflow: hidden;padding: 0;position: absolute;width: 1px;}#sk-container-id-89 div.sk-estimator {font-family: monospace;background-color: #f0f8ff;border: 1px dotted black;border-radius: 0.25em;box-sizing: border-box;margin-bottom: 0.5em;}#sk-container-id-89 div.sk-estimator:hover {background-color: #d4ebff;}#sk-container-id-89 div.sk-parallel-item::after {content: \"\";width: 100%;border-bottom: 1px solid gray;flex-grow: 1;}#sk-container-id-89 div.sk-label:hover label.sk-toggleable__label {background-color: #d4ebff;}#sk-container-id-89 div.sk-serial::before {content: \"\";position: absolute;border-left: 1px solid gray;box-sizing: border-box;top: 0;bottom: 0;left: 50%;z-index: 0;}#sk-container-id-89 div.sk-serial {display: flex;flex-direction: column;align-items: center;background-color: white;padding-right: 0.2em;padding-left: 0.2em;position: relative;}#sk-container-id-89 div.sk-item {position: relative;z-index: 1;}#sk-container-id-89 div.sk-parallel {display: flex;align-items: stretch;justify-content: center;background-color: white;position: relative;}#sk-container-id-89 div.sk-item::before, #sk-container-id-89 div.sk-parallel-item::before {content: \"\";position: absolute;border-left: 1px solid gray;box-sizing: border-box;top: 0;bottom: 0;left: 50%;z-index: -1;}#sk-container-id-89 div.sk-parallel-item {display: flex;flex-direction: column;z-index: 1;position: relative;background-color: white;}#sk-container-id-89 div.sk-parallel-item:first-child::after {align-self: flex-end;width: 50%;}#sk-container-id-89 div.sk-parallel-item:last-child::after {align-self: flex-start;width: 50%;}#sk-container-id-89 div.sk-parallel-item:only-child::after {width: 0;}#sk-container-id-89 div.sk-dashed-wrapped {border: 1px dashed gray;margin: 0 0.4em 0.5em 0.4em;box-sizing: border-box;padding-bottom: 0.4em;background-color: white;}#sk-container-id-89 div.sk-label label {font-family: monospace;font-weight: bold;display: inline-block;line-height: 1.2em;}#sk-container-id-89 div.sk-label-container {text-align: center;}#sk-container-id-89 div.sk-container {/* jupyter's `normalize.less` sets `[hidden] { display: none; }` but bootstrap.min.css set `[hidden] { display: none !important; }` so we also need the `!important` here to be able to override the default hidden behavior on the sphinx rendered scikit-learn.org. See: https://github.com/scikit-learn/scikit-learn/issues/21755 */display: inline-block !important;position: relative;}#sk-container-id-89 div.sk-text-repr-fallback {display: none;}</style><div id=\"sk-container-id-89\" class=\"sk-top-container\"><div class=\"sk-text-repr-fallback\"><pre>VotingRegressor(estimators=[(&#x27;xgb&#x27;,\n",
       "                             GridSearchCV(cv=5,\n",
       "                                          estimator=XGBRegressor(base_score=None,\n",
       "                                                                 booster=None,\n",
       "                                                                 callbacks=None,\n",
       "                                                                 colsample_bylevel=None,\n",
       "                                                                 colsample_bynode=None,\n",
       "                                                                 colsample_bytree=None,\n",
       "                                                                 early_stopping_rounds=None,\n",
       "                                                                 enable_categorical=False,\n",
       "                                                                 eval_metric=None,\n",
       "                                                                 feature_types=None,\n",
       "                                                                 gamma=None,\n",
       "                                                                 gpu_id=None,\n",
       "                                                                 grow_policy=None,\n",
       "                                                                 importance_type=None,\n",
       "                                                                 interaction_co...\n",
       "                                                                 max_leaves=None,\n",
       "                                                                 min_child_weight=None,\n",
       "                                                                 missing=nan,\n",
       "                                                                 monotone_constraints=None,\n",
       "                                                                 n_estimators=100,\n",
       "                                                                 n_jobs=None,\n",
       "                                                                 num_parallel_tree=None,\n",
       "                                                                 predictor=None,\n",
       "                                                                 random_state=None, ...),\n",
       "                                          param_grid={&#x27;learning_rate&#x27;: [0.001,\n",
       "                                                                        0.01,\n",
       "                                                                        0.1,\n",
       "                                                                        0.2,\n",
       "                                                                        0.3],\n",
       "                                                      &#x27;max_depth&#x27;: [3, 5, 7],\n",
       "                                                      &#x27;n_estimators&#x27;: [50, 100,\n",
       "                                                                       200]},\n",
       "                                          scoring=&#x27;neg_mean_squared_error&#x27;)),\n",
       "                            (&#x27;lreg&#x27;, LinearRegression())],\n",
       "                weights=array([0.7, 0.3]))</pre><b>In a Jupyter environment, please rerun this cell to show the HTML representation or trust the notebook. <br />On GitHub, the HTML representation is unable to render, please try loading this page with nbviewer.org.</b></div><div class=\"sk-container\" hidden><div class=\"sk-item sk-dashed-wrapped\"><div class=\"sk-label-container\"><div class=\"sk-label sk-toggleable\"><input class=\"sk-toggleable__control sk-hidden--visually\" id=\"sk-estimator-id-170\" type=\"checkbox\" ><label for=\"sk-estimator-id-170\" class=\"sk-toggleable__label sk-toggleable__label-arrow\">VotingRegressor</label><div class=\"sk-toggleable__content\"><pre>VotingRegressor(estimators=[(&#x27;xgb&#x27;,\n",
       "                             GridSearchCV(cv=5,\n",
       "                                          estimator=XGBRegressor(base_score=None,\n",
       "                                                                 booster=None,\n",
       "                                                                 callbacks=None,\n",
       "                                                                 colsample_bylevel=None,\n",
       "                                                                 colsample_bynode=None,\n",
       "                                                                 colsample_bytree=None,\n",
       "                                                                 early_stopping_rounds=None,\n",
       "                                                                 enable_categorical=False,\n",
       "                                                                 eval_metric=None,\n",
       "                                                                 feature_types=None,\n",
       "                                                                 gamma=None,\n",
       "                                                                 gpu_id=None,\n",
       "                                                                 grow_policy=None,\n",
       "                                                                 importance_type=None,\n",
       "                                                                 interaction_co...\n",
       "                                                                 max_leaves=None,\n",
       "                                                                 min_child_weight=None,\n",
       "                                                                 missing=nan,\n",
       "                                                                 monotone_constraints=None,\n",
       "                                                                 n_estimators=100,\n",
       "                                                                 n_jobs=None,\n",
       "                                                                 num_parallel_tree=None,\n",
       "                                                                 predictor=None,\n",
       "                                                                 random_state=None, ...),\n",
       "                                          param_grid={&#x27;learning_rate&#x27;: [0.001,\n",
       "                                                                        0.01,\n",
       "                                                                        0.1,\n",
       "                                                                        0.2,\n",
       "                                                                        0.3],\n",
       "                                                      &#x27;max_depth&#x27;: [3, 5, 7],\n",
       "                                                      &#x27;n_estimators&#x27;: [50, 100,\n",
       "                                                                       200]},\n",
       "                                          scoring=&#x27;neg_mean_squared_error&#x27;)),\n",
       "                            (&#x27;lreg&#x27;, LinearRegression())],\n",
       "                weights=array([0.7, 0.3]))</pre></div></div></div><div class=\"sk-parallel\"><div class=\"sk-parallel-item\"><div class=\"sk-item\"><div class=\"sk-label-container\"><div class=\"sk-label sk-toggleable\"><label>xgb</label></div></div><div class=\"sk-serial\"><div class=\"sk-item sk-dashed-wrapped\"><div class=\"sk-parallel\"><div class=\"sk-parallel-item\"><div class=\"sk-item\"><div class=\"sk-label-container\"><div class=\"sk-label sk-toggleable\"><input class=\"sk-toggleable__control sk-hidden--visually\" id=\"sk-estimator-id-171\" type=\"checkbox\" ><label for=\"sk-estimator-id-171\" class=\"sk-toggleable__label sk-toggleable__label-arrow\">estimator: XGBRegressor</label><div class=\"sk-toggleable__content\"><pre>XGBRegressor(base_score=None, booster=None, callbacks=None,\n",
       "             colsample_bylevel=None, colsample_bynode=None,\n",
       "             colsample_bytree=None, early_stopping_rounds=None,\n",
       "             enable_categorical=False, eval_metric=None, feature_types=None,\n",
       "             gamma=None, gpu_id=None, grow_policy=None, importance_type=None,\n",
       "             interaction_constraints=None, learning_rate=None, max_bin=None,\n",
       "             max_cat_threshold=None, max_cat_to_onehot=None,\n",
       "             max_delta_step=None, max_depth=None, max_leaves=None,\n",
       "             min_child_weight=None, missing=nan, monotone_constraints=None,\n",
       "             n_estimators=100, n_jobs=None, num_parallel_tree=None,\n",
       "             predictor=None, random_state=None, ...)</pre></div></div></div><div class=\"sk-serial\"><div class=\"sk-item\"><div class=\"sk-estimator sk-toggleable\"><input class=\"sk-toggleable__control sk-hidden--visually\" id=\"sk-estimator-id-172\" type=\"checkbox\" ><label for=\"sk-estimator-id-172\" class=\"sk-toggleable__label sk-toggleable__label-arrow\">XGBRegressor</label><div class=\"sk-toggleable__content\"><pre>XGBRegressor(base_score=None, booster=None, callbacks=None,\n",
       "             colsample_bylevel=None, colsample_bynode=None,\n",
       "             colsample_bytree=None, early_stopping_rounds=None,\n",
       "             enable_categorical=False, eval_metric=None, feature_types=None,\n",
       "             gamma=None, gpu_id=None, grow_policy=None, importance_type=None,\n",
       "             interaction_constraints=None, learning_rate=None, max_bin=None,\n",
       "             max_cat_threshold=None, max_cat_to_onehot=None,\n",
       "             max_delta_step=None, max_depth=None, max_leaves=None,\n",
       "             min_child_weight=None, missing=nan, monotone_constraints=None,\n",
       "             n_estimators=100, n_jobs=None, num_parallel_tree=None,\n",
       "             predictor=None, random_state=None, ...)</pre></div></div></div></div></div></div></div></div></div></div></div><div class=\"sk-parallel-item\"><div class=\"sk-item\"><div class=\"sk-label-container\"><div class=\"sk-label sk-toggleable\"><label>lreg</label></div></div><div class=\"sk-serial\"><div class=\"sk-item\"><div class=\"sk-estimator sk-toggleable\"><input class=\"sk-toggleable__control sk-hidden--visually\" id=\"sk-estimator-id-173\" type=\"checkbox\" ><label for=\"sk-estimator-id-173\" class=\"sk-toggleable__label sk-toggleable__label-arrow\">LinearRegression</label><div class=\"sk-toggleable__content\"><pre>LinearRegression()</pre></div></div></div></div></div></div></div></div></div></div>"
      ],
      "text/plain": [
       "VotingRegressor(estimators=[('xgb',\n",
       "                             GridSearchCV(cv=5,\n",
       "                                          estimator=XGBRegressor(base_score=None,\n",
       "                                                                 booster=None,\n",
       "                                                                 callbacks=None,\n",
       "                                                                 colsample_bylevel=None,\n",
       "                                                                 colsample_bynode=None,\n",
       "                                                                 colsample_bytree=None,\n",
       "                                                                 early_stopping_rounds=None,\n",
       "                                                                 enable_categorical=False,\n",
       "                                                                 eval_metric=None,\n",
       "                                                                 feature_types=None,\n",
       "                                                                 gamma=None,\n",
       "                                                                 gpu_id=None,\n",
       "                                                                 grow_policy=None,\n",
       "                                                                 importance_type=None,\n",
       "                                                                 interaction_co...\n",
       "                                                                 max_leaves=None,\n",
       "                                                                 min_child_weight=None,\n",
       "                                                                 missing=nan,\n",
       "                                                                 monotone_constraints=None,\n",
       "                                                                 n_estimators=100,\n",
       "                                                                 n_jobs=None,\n",
       "                                                                 num_parallel_tree=None,\n",
       "                                                                 predictor=None,\n",
       "                                                                 random_state=None, ...),\n",
       "                                          param_grid={'learning_rate': [0.001,\n",
       "                                                                        0.01,\n",
       "                                                                        0.1,\n",
       "                                                                        0.2,\n",
       "                                                                        0.3],\n",
       "                                                      'max_depth': [3, 5, 7],\n",
       "                                                      'n_estimators': [50, 100,\n",
       "                                                                       200]},\n",
       "                                          scoring='neg_mean_squared_error')),\n",
       "                            ('lreg', LinearRegression())],\n",
       "                weights=array([0.7, 0.3]))"
      ]
     },
     "execution_count": 633,
     "metadata": {},
     "output_type": "execute_result"
    }
   ],
   "source": [
    "#training randomforest model\n",
    "ensemble = train_model(v_reg, x_train, y_train)\n",
    "ensemble"
   ]
  },
  {
   "cell_type": "code",
   "execution_count": 142,
   "metadata": {},
   "outputs": [],
   "source": [
    "#params = {\n",
    "   # 'objective': 'regression',  # 'binary' for binary classification, 'regression' for regression\n",
    "   # 'metric': 'rmse',  # 'binary_logloss' for binary classification, 'rmse' for regression\n",
    "   # 'boosting_type': 'gbdt',  # Gradient Boosting Decision Tree\n",
    "   # 'num_leaves': 31,  # Maximum number of leaves in one tree\n",
    "  #  'learning_rate': 0.05,  # Learning rate for boosting\n",
    "   # 'feature_fraction': 0.9,  # Proportion of features to consider in each iteration\n",
    "   # 'bagging_fraction': 0.8,  # Proportion of data to bag in each iteration\n",
    "   # 'bagging_freq': 5,  # Frequency for bagging\n",
    "   # 'verbose': 0  # Set to 1 for debugging information, 0 for no outputs\n",
    "#}\n"
   ]
  },
  {
   "cell_type": "code",
   "execution_count": 182,
   "metadata": {},
   "outputs": [],
   "source": [
    "#num_boost_round = 100  # Number of boosting rounds (iterations)\n",
    "#model = lgbm.train(params, train_data, num_boost_round=num_boost_round)"
   ]
  },
  {
   "cell_type": "code",
   "execution_count": 634,
   "metadata": {},
   "outputs": [],
   "source": [
    "def predict(model, X_test, data, target, result_title, new_data=None):\n",
    "    \"\"\"\n",
    "    Uses a trained machine learning model to make predictions on new data.\n",
    "    \n",
    "    Parameters:\n",
    "        model (object): A trained machine learning model object with a `predict` method.\n",
    "        X_test (array-like): Input data to make predictions on.\n",
    "        \n",
    "    Returns:\n",
    "        array-like: An array of predicted values for each input in `X_test`.\n",
    "    \"\"\"\n",
    "    # Use the model to make predictions on the input data\n",
    "    y_pred = model.predict(X_test)\n",
    "     # If new unseen data is provided, make predictions on it as well\n",
    "    if new_data is not None:\n",
    "        model.fit(data, target)\n",
    "        y_pred_unseen = model.predict(new_data)\n",
    "        #result of the prediction\n",
    "        result_model = pd.DataFrame(y_pred_unseen, columns= ['Close'])\n",
    "        # merge the one-hot encoded data frame with the original data frame\n",
    "        test_result = pd.concat([test_df, result_model], axis=1)\n",
    "        #final_result = test_result[['customer_id', 'subscribed']]\n",
    "        test_result.to_csv(result_title, index = False)    #this helps to output and store the final prediction to csv\n",
    "        print(test_result)\n",
    "        return y_pred\n",
    "    \n",
    "    # Return the predictions\n",
    "    return y_pred, test_result"
   ]
  },
  {
   "cell_type": "code",
   "execution_count": 625,
   "metadata": {},
   "outputs": [
    {
     "name": "stdout",
     "output_type": "stream",
     "text": [
      "         Date   Open   High    Low   Volume  Stock Trading         Close\n",
      "0  2017-01-13  38900  39380  38240  1321200    51197289000  38733.885965\n",
      "1  2017-01-12  38300  38450  37930   800900    30540359000  38116.813979\n",
      "2  2017-01-11  38710  38880  38480   545900    21089798000  38665.982575\n",
      "3  2017-01-10  38620  38850  38150  1196900    46107703000  38413.492867\n",
      "4  2017-01-06  40500  41030  39720  1435500    57708934000  40267.842795\n",
      "5  2017-01-05  43250  43330  42470   516800    22124250000  42647.312241\n",
      "6  2017-01-04  42480  43330  42450   648100    27916728000  43168.345994\n"
     ]
    }
   ],
   "source": [
    "#logistic regression prediction\n",
    "lr_predict = predict(lr_model, x_test, X, y, \n",
    "                       \"lr_pred.csv\", new_data=new_data)"
   ]
  },
  {
   "cell_type": "code",
   "execution_count": 568,
   "metadata": {},
   "outputs": [
    {
     "data": {
      "text/plain": [
       "0    38430\n",
       "1    38010\n",
       "2    38560\n",
       "3    38690\n",
       "4    39720\n",
       "5    42590\n",
       "6    43290\n",
       "Name: Close, dtype: int64"
      ]
     },
     "execution_count": 568,
     "metadata": {},
     "output_type": "execute_result"
    }
   ],
   "source": [
    "test_y"
   ]
  },
  {
   "cell_type": "code",
   "execution_count": 620,
   "metadata": {},
   "outputs": [
    {
     "name": "stdout",
     "output_type": "stream",
     "text": [
      "         Date   Open   High    Low   Volume  Stock Trading     Close\n",
      "0  2017-01-13  38900  39380  38240  1321200    51197289000  38964.45\n",
      "1  2017-01-12  38300  38450  37930   800900    30540359000  37986.60\n",
      "2  2017-01-11  38710  38880  38480   545900    21089798000  38715.55\n",
      "3  2017-01-10  38620  38850  38150  1196900    46107703000  38627.95\n",
      "4  2017-01-06  40500  41030  39720  1435500    57708934000  40402.10\n",
      "5  2017-01-05  43250  43330  42470   516800    22124250000  42669.30\n",
      "6  2017-01-04  42480  43330  42450   648100    27916728000  42799.80\n"
     ]
    }
   ],
   "source": [
    "#randomforest prediction\n",
    "rf_predict = predict(rf, x_test, X, y, \n",
    "                       \"rf_pred.csv\", new_data=new_data)"
   ]
  },
  {
   "cell_type": "code",
   "execution_count": 635,
   "metadata": {},
   "outputs": [
    {
     "name": "stdout",
     "output_type": "stream",
     "text": [
      "         Date   Open   High    Low   Volume  Stock Trading         Close\n",
      "0  2017-01-13  38900  39380  38240  1321200    51197289000  38469.394531\n",
      "1  2017-01-12  38300  38450  37930   800900    30540359000  38141.265625\n",
      "2  2017-01-11  38710  38880  38480   545900    21089798000  38456.226562\n",
      "3  2017-01-10  38620  38850  38150  1196900    46107703000  38651.152344\n",
      "4  2017-01-06  40500  41030  39720  1435500    57708934000  40477.578125\n",
      "5  2017-01-05  43250  43330  42470   516800    22124250000  42651.496094\n",
      "6  2017-01-04  42480  43330  42450   648100    27916728000  43165.937500\n"
     ]
    }
   ],
   "source": [
    "#logistic regression prediction\n",
    "xgb_predict = predict(xgbm, x_test, X, y, \n",
    "                       \"xgb_pred.csv\", new_data=new_data)"
   ]
  },
  {
   "cell_type": "code",
   "execution_count": 150,
   "metadata": {},
   "outputs": [
    {
     "data": {
      "text/plain": [
       "0    38430\n",
       "1    38010\n",
       "2    38560\n",
       "3    38690\n",
       "4    39720\n",
       "5    42590\n",
       "6    43290\n",
       "Name: Close, dtype: int64"
      ]
     },
     "execution_count": 150,
     "metadata": {},
     "output_type": "execute_result"
    }
   ],
   "source": [
    "test_y"
   ]
  },
  {
   "cell_type": "code",
   "execution_count": 636,
   "metadata": {},
   "outputs": [
    {
     "name": "stdout",
     "output_type": "stream",
     "text": [
      "         Date   Open   High    Low   Volume  Stock Trading         Close\n",
      "0  2017-01-13  38900  39380  38240  1321200    51197289000  38548.741961\n",
      "1  2017-01-12  38300  38450  37930   800900    30540359000  38133.930131\n",
      "2  2017-01-11  38710  38880  38480   545900    21089798000  38519.153366\n",
      "3  2017-01-10  38620  38850  38150  1196900    46107703000  38579.854501\n",
      "4  2017-01-06  40500  41030  39720  1435500    57708934000  40414.657526\n",
      "5  2017-01-05  43250  43330  42470   516800    22124250000  42650.240938\n",
      "6  2017-01-04  42480  43330  42450   648100    27916728000  43166.660048\n"
     ]
    }
   ],
   "source": [
    "#logistic regression prediction\n",
    "vr_predict = predict(ensemble, x_test, X, y, \n",
    "                       \"ensemble.csv\", new_data=new_data)"
   ]
  },
  {
   "cell_type": "code",
   "execution_count": 228,
   "metadata": {},
   "outputs": [
    {
     "data": {
      "text/plain": [
       "0    38430\n",
       "1    38010\n",
       "2    38560\n",
       "3    38690\n",
       "4    39720\n",
       "5    42590\n",
       "6    43290\n",
       "Name: Close, dtype: int64"
      ]
     },
     "execution_count": 228,
     "metadata": {},
     "output_type": "execute_result"
    }
   ],
   "source": [
    "test_y"
   ]
  },
  {
   "cell_type": "markdown",
   "metadata": {},
   "source": [
    "<a id=\"six\"></a>\n",
    "# 6. Model Evaluation\n",
    "<a class=\"anchor\" id=\"1.1\"></a>\n",
    "<a href=#cont>Back to Table of Contents</a> \n",
    "\n",
    "---\n",
    "\n",
    "    \n",
    "| ⚡ Description: Modelling ⚡ |\n",
    "| :--------------------------- |\n",
    "| In this section, we check the performance of each of these models |\n",
    "\n",
    "---"
   ]
  },
  {
   "cell_type": "code",
   "execution_count": 627,
   "metadata": {},
   "outputs": [],
   "source": [
    "def evaluate(model, X_test, y_test):\n",
    "    \"\"\"\n",
    "    Evaluates the performance of a machine learning model on input test data.\n",
    "    \n",
    "    Parameters:\n",
    "        model (object): A trained machine learning model object with a `predict` method.\n",
    "        X_test (array-like): Input data to make predictions on.\n",
    "        y_test (array-like): True output values for the input test data.\n",
    "        \n",
    "    Returns:\n",
    "        float: The evaluation score for the model's predictions.\n",
    "    \"\"\"\n",
    "    # Use the model to make predictions on the input test data\n",
    "    y_pred = model.predict(X_test)\n",
    "    \n",
    "    # Evaluate the predictions using an appropriate metric (e.g., accuracy, MSE, etc.)\n",
    "    rmse = np.sqrt(mean_squared_error(y_test, y_pred))\n",
    "    r2 = r2_score(y_test, y_pred)\n",
    "    # Return the evaluation score\n",
    "    return rmse, r2"
   ]
  },
  {
   "cell_type": "code",
   "execution_count": 628,
   "metadata": {},
   "outputs": [
    {
     "data": {
      "text/plain": [
       "(244.2976367559362, 0.9994879889671341)"
      ]
     },
     "execution_count": 628,
     "metadata": {},
     "output_type": "execute_result"
    }
   ],
   "source": [
    "#logistic regression evaluation\n",
    "lr_eval = evaluate(lr_model, x_test, y_test)\n",
    "lr_eval"
   ]
  },
  {
   "cell_type": "code",
   "execution_count": 574,
   "metadata": {},
   "outputs": [
    {
     "data": {
      "text/plain": [
       "(140.18331219296164, 0.9998314093745219)"
      ]
     },
     "execution_count": 574,
     "metadata": {},
     "output_type": "execute_result"
    }
   ],
   "source": [
    "#logistic regression evaluation\n",
    "rf_eval = evaluate(rf, x_test, y_test)\n",
    "rf_eval"
   ]
  },
  {
   "cell_type": "code",
   "execution_count": 629,
   "metadata": {},
   "outputs": [
    {
     "data": {
      "text/plain": [
       "(9.552325716523482, 0.9999992171851907)"
      ]
     },
     "execution_count": 629,
     "metadata": {},
     "output_type": "execute_result"
    }
   ],
   "source": [
    "#logistic regression evaluation\n",
    "xg_eval = evaluate(xgbm, x_test, y_test)\n",
    "xg_eval"
   ]
  },
  {
   "cell_type": "code",
   "execution_count": 443,
   "metadata": {},
   "outputs": [
    {
     "data": {
      "text/plain": [
       "(283.0253890889028, 0.9993127866621682)"
      ]
     },
     "execution_count": 443,
     "metadata": {},
     "output_type": "execute_result"
    }
   ],
   "source": [
    "#logistic regression evaluation\n",
    "lg_eval = evaluate(lgm, x_test, y_test)\n",
    "lg_eval"
   ]
  },
  {
   "cell_type": "code",
   "execution_count": 630,
   "metadata": {},
   "outputs": [
    {
     "data": {
      "text/plain": [
       "(76.12863848138545, 0.9999502793367594)"
      ]
     },
     "execution_count": 630,
     "metadata": {},
     "output_type": "execute_result"
    }
   ],
   "source": [
    "#logistic regression evaluation\n",
    "vr_eval = evaluate(ensemble, x_test, y_test)\n",
    "vr_eval"
   ]
  }
 ],
 "metadata": {
  "kernelspec": {
   "display_name": "base",
   "language": "python",
   "name": "python3"
  },
  "language_info": {
   "codemirror_mode": {
    "name": "ipython",
    "version": 3
   },
   "file_extension": ".py",
   "mimetype": "text/x-python",
   "name": "python",
   "nbconvert_exporter": "python",
   "pygments_lexer": "ipython3",
   "version": "3.10.9"
  },
  "orig_nbformat": 4
 },
 "nbformat": 4,
 "nbformat_minor": 2
}
